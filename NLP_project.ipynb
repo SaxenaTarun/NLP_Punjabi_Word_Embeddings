{
 "cells": [
  {
   "cell_type": "markdown",
   "metadata": {
    "colab_type": "text",
    "id": "Fzmi-29UuX3q"
   },
   "source": [
    "# Importing Libraries"
   ]
  },
  {
   "cell_type": "code",
   "execution_count": 1,
   "metadata": {
    "ExecuteTime": {
     "end_time": "2022-04-18T19:19:07.613545Z",
     "start_time": "2022-04-18T19:19:06.540358Z"
    },
    "colab": {},
    "colab_type": "code",
    "id": "84NeDZgmubv-",
    "scrolled": false
   },
   "outputs": [
    {
     "name": "stdout",
     "output_type": "stream",
     "text": [
      "Init Plugin\n",
      "Init Graph Optimizer\n",
      "Init Kernel\n"
     ]
    }
   ],
   "source": [
    "import glob\n",
    "import os\n",
    "import csv\n",
    "import tensorflow as tf\n",
    "import numpy as np\n",
    "from tensorflow.keras.preprocessing.text import Tokenizer\n",
    "from tensorflow.keras.preprocessing.sequence import pad_sequences"
   ]
  },
  {
   "cell_type": "code",
   "execution_count": 2,
   "metadata": {
    "ExecuteTime": {
     "end_time": "2022-04-18T19:04:40.418245Z",
     "start_time": "2022-04-18T19:04:40.418240Z"
    },
    "colab": {},
    "colab_type": "code",
    "id": "HWXTfecQ3lsS"
   },
   "outputs": [],
   "source": [
    "os.environ['Directory'] = \"/Users/tarun/NLP_IIITN/\" "
   ]
  },
  {
   "cell_type": "markdown",
   "metadata": {
    "colab_type": "text",
    "id": "J-afxxXS-eDp"
   },
   "source": [
    "# Preprocessing Dataset to Generate Language Model"
   ]
  },
  {
   "cell_type": "code",
   "execution_count": 3,
   "metadata": {
    "ExecuteTime": {
     "end_time": "2022-04-18T19:04:40.418799Z",
     "start_time": "2022-04-18T19:04:40.418793Z"
    },
    "colab": {},
    "colab_type": "code",
    "id": "nZOUJR7E_O9L"
   },
   "outputs": [],
   "source": [
    "filename_list = list()\n",
    "for filename in glob.glob('dataset_for_vocab/*/*/*.txt'):\n",
    "  file = os.path.join(os.getcwd(), filename)\n",
    "  filename_list.append(file)"
   ]
  },
  {
   "cell_type": "code",
   "execution_count": 4,
   "metadata": {
    "ExecuteTime": {
     "end_time": "2022-04-18T19:04:40.419261Z",
     "start_time": "2022-04-18T19:04:40.419256Z"
    },
    "colab": {
     "base_uri": "https://localhost:8080/",
     "height": 101
    },
    "colab_type": "code",
    "id": "725_wMhu_xHo",
    "outputId": "2bc4638e-ba48-4c66-d67a-06ec64804b98"
   },
   "outputs": [
    {
     "data": {
      "text/plain": [
       "['/Users/tarun/NLP_IIITN/dataset_for_vocab/valid/valid/36964.txt',\n",
       " '/Users/tarun/NLP_IIITN/dataset_for_vocab/valid/valid/18441.txt',\n",
       " '/Users/tarun/NLP_IIITN/dataset_for_vocab/valid/valid/5235.txt',\n",
       " '/Users/tarun/NLP_IIITN/dataset_for_vocab/valid/valid/22911.txt',\n",
       " '/Users/tarun/NLP_IIITN/dataset_for_vocab/valid/valid/8711.txt']"
      ]
     },
     "execution_count": 4,
     "metadata": {},
     "output_type": "execute_result"
    }
   ],
   "source": [
    "filename_list[:5]"
   ]
  },
  {
   "cell_type": "code",
   "execution_count": 5,
   "metadata": {
    "ExecuteTime": {
     "end_time": "2022-04-18T19:04:40.419906Z",
     "start_time": "2022-04-18T19:04:40.419900Z"
    },
    "colab": {
     "base_uri": "https://localhost:8080/",
     "height": 101
    },
    "colab_type": "code",
    "id": "vonxP_Ne_zqE",
    "outputId": "4b6f99ab-d5d5-400e-fa4c-8e5cf5d76b06"
   },
   "outputs": [
    {
     "data": {
      "text/plain": [
       "['/Users/tarun/NLP_IIITN/dataset_for_vocab/train/train/19746.txt',\n",
       " '/Users/tarun/NLP_IIITN/dataset_for_vocab/train/train/16475.txt',\n",
       " '/Users/tarun/NLP_IIITN/dataset_for_vocab/train/train/40633.txt',\n",
       " '/Users/tarun/NLP_IIITN/dataset_for_vocab/train/train/29685.txt',\n",
       " '/Users/tarun/NLP_IIITN/dataset_for_vocab/train/train/38950.txt']"
      ]
     },
     "execution_count": 5,
     "metadata": {},
     "output_type": "execute_result"
    }
   ],
   "source": [
    "filename_list[-5:]"
   ]
  },
  {
   "cell_type": "code",
   "execution_count": 6,
   "metadata": {
    "ExecuteTime": {
     "end_time": "2022-04-18T19:04:40.420540Z",
     "start_time": "2022-04-18T19:04:40.420535Z"
    },
    "colab": {
     "base_uri": "https://localhost:8080/",
     "height": 34
    },
    "colab_type": "code",
    "id": "CXXelwpF_356",
    "outputId": "7c0ad0c1-ea40-42cd-b258-95e86c5bcc40"
   },
   "outputs": [
    {
     "name": "stdout",
     "output_type": "stream",
     "text": [
      "463\n"
     ]
    }
   ],
   "source": [
    "stopwords = [\n",
    "  \"ਦੇ\", \"0\", \"ਵਿੱਚ\", \"ਦਾ\", \"ਅਤੇ\", \"ਦੀ\", \"ਇੱਕ\", \"ਨੂੰ\", \"ਹੈ\", \"ਤੋਂ\", \"ਇਸ\", \"ਇਹ\",\n",
    "  \"ਨੇ\", \"ਤੇ\", \"ਨਾਲ\", \"1\", \"ਲਈ\", \"ਵੀ\", \"ਸੀ\", \"ਵਿਚ\", \"ਕਿ\", \"ਜੋ\", \"ਉਹ\", \"ਉਸ\",\n",
    "  \"ਹਨ\", \"ਜਾਂਦਾ\", \"ਕੀਤਾ\", \"2\", \"ਗਿਆ\", \"ਹੀ\", \"ਕੇ\", \"ਜਾਂ\", \"ਦੀਆਂ\", \"ਜਿਸ\", \"ਕਰਨ\",\n",
    "  \"ਹੋ\", \"ਕਰ\", \"ਆਪਣੇ\", \"ਕੀਤੀ\", \"ਤੌਰ\", \"ਬਾਅਦ\", \"ਨਹੀਂ\", \"ਭਾਰਤੀ\", \"ਪਿੰਡ\", \"3\",\n",
    "  \"ਸਿੰਘ\", \"ਉੱਤੇ\", \"ਸਾਲ\", \"।\", \"ਪੰਜਾਬ\", \"ਸਭ\", \"ਭਾਰਤ\", \"ਉਨ੍ਹਾਂ\", \"ਹੁੰਦਾ\", \"ਤੱਕ\",\n",
    "  \"ਇਕ\", \"ਹੋਇਆ\", \"ਜਨਮ\", \"ਬਹੁਤ\", \"ਪਰ\", \"ਦੁਆਰਾ\", \"ਰੂਪ\", \"4\", \"ਹੋਰ\", \"ਕੰਮ\", \"ਆਪਣੀ\",\n",
    "  \"ਤਾਂ\", \"ਸਮੇਂ\", \"ਪੰਜਾਬੀ\", \"ਗਈ\", \"ਦਿੱਤਾ\", \"ਦੋ\", \"ਕਿਸੇ\", \"ਕਈ\", \"ਜਾ\", \"ਵਾਲੇ\",\n",
    "  \"ਸ਼ੁਰੂ\", \"5\", \"ਉਸਨੇ\", \"ਕਿਹਾ\", \"ਹੋਣ\", \"ਲੋਕ\", \"ਜਾਂਦੀ\", \"ਵਿੱਚੋਂ\", \"ਨਾਮ\", \"ਜਦੋਂ\",\n",
    "  \"ਪਹਿਲਾਂ\", \"ਕਰਦਾ\", \"ਹੁੰਦੀ\", \"ਹੋਏ\", \"ਸਨ\", \"ਵਜੋਂ\", \"ਰਾਜ\", \"ਮੁੱਖ\", \"ਕਰਦੇ\", \"ਕੁਝ\",\n",
    "  \"ਸਾਰੇ\", \"ਹੁੰਦੇ\", \"ਸ਼ਹਿਰ\", \"ਭਾਸ਼ਾ\", \"6\", \"ਹੋਈ\", \"ਅਨੁਸਾਰ\", \"ਸਕਦਾ\", \"ਆਮ\", \"ਵੱਖ\",\n",
    "  \"ਕੋਈ\", \"ਵਾਰ\", \"ਗਏ\", \"ਖੇਤਰ\", \"ਜੀ\", \"ਕਾਰਨ\", \"ਕਰਕੇ\", \"ਜਿਵੇਂ\", \"ਜ਼ਿਲ੍ਹੇ\",\n",
    "  \"ਲੋਕਾਂ\", \"ਚ\", \"ਸਾਹਿਤ\", \"ਸਦੀ\", \"ਬਾਰੇ\", \"ਜਾਂਦੇ\", \"ਵਾਲਾ\", \"ਜਾਣ\", \"ਪਹਿਲੀ\",\n",
    "  \"ਪ੍ਰਾਪਤ\", \"ਰਿਹਾ\", \"ਵਾਲੀ\", \"ਨਾਂ\", \"ਦੌਰਾਨ\", \"ਤਰ੍ਹਾਂ\", \"7\", \"ਯੂਨੀਵਰਸਿਟੀ\", \"ਨਾ\",\n",
    "  \"ਏ\", \"ਤਿੰਨ\", \"ਇਨ੍ਹਾਂ\", \"ਗੁਰੂ\", \"ਇਸਨੂੰ\", \"ਇਹਨਾਂ\", \"ਪਿਤਾ\", \"ਲਿਆ\", \"ਸ਼ਾਮਲ\",\n",
    "  \"ਸ਼ਬਦ\", \"ਅੰਗਰੇਜ਼ੀ\", \"ਉਸਨੂੰ\", \"ਉਹਨਾਂ\", \"8\", \"ਸਥਿਤ\", \"ਫਿਰ\", \"ਜੀਵਨ\", \"ਸਕੂਲ\",\n",
    "  \"ਹੁਣ\", \"ਦਿਨ\", \"ਕੀਤੇ\", \"ਆਦਿ\", \"ਵੱਧ\", \"ਲੈ\", \"ਘਰ\", \"ਵੱਲ\", \"ਦੇਸ਼\", \"ਵਲੋਂ\", \"ਬਣ\",\n",
    "  \"ਵੀਂ\", \"ਫਿਲਮ\", \"ਉਮਰ\", \"ਬਲਾਕ\", \"ਰਹੇ\", \"10\", \"ਸਾਹਿਬ\", \"ਕਰਦੀ\", \"ਹਰ\", \"ਪੈਦਾ\",\n",
    "  \"ਘੱਟ\", \"9\", \"ਲੇਖਕ\", \"ਹਿੱਸਾ\", \"ਫ਼ਿਲਮ\", \"ਮੌਤ\", \"ਜਿੱਥੇ\", \"ਵੱਡਾ\", \"ਵਿਖੇ\", \"ਆਪਣਾ\",\n",
    "  \"ਪਹਿਲਾ\", \"ਵਰਤੋਂ\", \"ਆਪ\", \"ਕਰਨਾ\", \"ਵਿਆਹ\", \"ਰਹੀ\", \"ਰਾਹੀਂ\", \"ਦਿੱਤੀ\", \"ਉਸਦੇ\",\n",
    "  \"ਪਰਿਵਾਰ\", \"ਆ\", \"ਦੂਜੇ\", \"ਅਮਰੀਕਾ\", \"ਮੰਨਿਆ\", \"ਇਸਦੇ\", \"ਈ\", \"ਕਾਲਜ\", \"ਸਰਕਾਰ\",\n",
    "  \"ਇੱਥੇ\", \"ਪਾਕਿਸਤਾਨ\", \"ਸ਼ਾਮਿਲ\", \"ਵਿਗਿਆਨ\", \"ਉਸਦੀ\", \"ਪੇਸ਼\", \"ਕਿਉਂਕਿ\", \"ਪਹਿਲੇ\",\n",
    "  \"ਧਰਮ\", \"ਮਸ਼ਹੂਰ\", \"ਅੰਦਰ\", \"ਵਿਚੋਂ\", \"ਜਿਨ੍ਹਾਂ\", \"ਜਾਣਿਆ\", \"ਪਾਣੀ\", \"ਇਲਾਵਾ\", \"ਅਰਥ\",\n",
    "  \"ਚਾਰ\", \"ਪ੍ਰਸਿੱਧ\", \"ਨਾਵਲ\", \"ਵੱਡੇ\", \"ਵੱਲੋਂ\", \"ਕਹਾਣੀ\", \"ਵਿਸ਼ਵ\", \"ਮੂਲ\", \"ਅਮਰੀਕੀ\",\n",
    "  \"ਸਥਾਨ\", \"ਇਤਿਹਾਸ\", \"ਕੁੱਝ\", \"ਵਿਕਾਸ\", \"ਉੱਤਰ\", \"ਸਿੱਖਿਆ\", \"ਹਿੰਦੀ\", \"ਪ੍ਰਮੁੱਖ\",\n",
    "  \"ਰਚਨਾ\", \"ਬਣਾਇਆ\", \"ਵਿਸ਼ੇਸ਼\", \"ਡਾ\", \"ਉੱਪਰ\", \"ਪੱਛਮੀ\", \"ਦੇਣ\", \"ਇਸਦਾ\", \"ਸਕਦੇ\",\n",
    "  \"ਰੱਖਿਆ\", \"ਕਵੀ\", \"ਦਿੱਲੀ\", \"ਵੱਡੀ\", \"ਭੂਮਿਕਾ\", \"ਸਮਾਜ\", \"ਕਾਵਿ\", \"ਕੀ\", \"ਕੋਲ\", \"ਦ\",\n",
    "  \"ਗੱਲ\", \"ਸੰਸਾਰ\", \"ਭਾਗ\", \"ਆਈ\", \"ਦੱਖਣ\", \"ਅੱਜ\", \"ਸਿੱਖ\", \"ਕਹਿੰਦੇ\", \"ਸੰਗੀਤ\",\n",
    "  \"ਕਿਲੋਮੀਟਰ\", \"ਜਿਹਨਾਂ\", \"ਸਭਾ\", \"ਜਿਸਦਾ\", \"ਜਨਵਰੀ\", \"ਕਵਿਤਾ\", \"ਮੈਂਬਰ\", \"ਲਿਖਿਆ\",\n",
    "  \"ਮਾਂ\", \"ਕਲਾ\", \"ਪੰਜ\", \"ਥਾਂ\", \"ਹੇਠ\", \"ਜਿਆਦਾ\", \"ਵਰਤਿਆ\", \"ਮਾਰਚ\", \"ਡੀ\", \"ਅਕਤੂਬਰ\",\n",
    "  \"ਤਕ\", \"ਨਾਟਕ\", \"ਬੀ\", \"ਖਾਸ\", \"ਇਸੇ\", \"ਆਧੁਨਿਕ\", \"ਅਗਸਤ\", \"ਤਿਆਰ\", \"ਮਾਤਾ\", \"ਬਣਾਉਣ\",\n",
    "  \"ਨਵੰਬਰ\", \"ਵਿਅਕਤੀ\", \"ਦੱਖਣੀ\", \"ਦਸੰਬਰ\", \"ਆਫ\", \"ਗੀਤ\", \"ਗਿਣਤੀ\", \"ਕਾਲ\", \"ਖੋਜ\",\n",
    "  \"ਸਾਲਾਂ\", \"ਪੂਰੀ\", \"ਸਮਾਂ\", \"ਜ਼ਿਆਦਾ\", \"ਇਸਦੀ\", \"ਸਕਦੀ\", \"ਵਿਚਕਾਰ\", \"ਰਾਜਧਾਨੀ\",\n",
    "  \"ਉਸਦਾ\", \"ਜੁਲਾਈ\", \"ਜੂਨ\", \"ਅਧੀਨ\", \"ਸਥਾਪਨਾ\", \"ਸੇਵਾ\", \"ਭਾਵ\", \"ਵਰਗ\", \"ਛੋਟੇ\",\n",
    "  \"ਦਿੰਦਾ\", \"ਸਮਾਜਿਕ\", \"ਹੁੰਦੀਆਂ\", \"ਟੀਮ\", \"ਔਰਤਾਂ\", \"ਅਕਸਰ\", \"ਪ੍ਰਕਾਸ਼ਿਤ\", \"ਉਰਦੂ\",\n",
    "  \"ਰੰਗ\", \"ਪਾਰਟੀ\", \"ਬਣਾ\", \"ਪ੍ਰਭਾਵ\", \"ਸ਼ੁਰੂਆਤ\", \"ਲਗਭਗ\", \"ਮਈ\", \"ਸਿਰਫ\", \"ਨੇੜੇ\",\n",
    "  \"ਜਿਸਨੂੰ\", \"ਹਾਲਾਂਕਿ\", \"ਦੂਰ\", \"ਸਤੰਬਰ\", \"ਕਿਤਾਬ\", \"ਕਦੇ\", \"ਉੱਤਰੀ\", \"ਪ੍ਰਕਾਰ\",\n",
    "  \"ਇਸਨੇ\", \"ਪ੍ਰਦੇਸ਼\", \"ਅੱਗੇ\", \"ਸੰਯੁਕਤ\", \"ਪੜ੍ਹਾਈ\", \"ਵਧੇਰੇ\", \"ਨਾਲ਼\", \"ਮਨੁੱਖ\",\n",
    "  \"ਬਾਕੀ\", \"ਪ੍ਰਧਾਨ\", \"ਦੂਜੀ\", \"ਕੁੱਲ\", \"ਆਫ਼\", \"ਅਧਿਐਨ\", \"ਰਾਸ਼ਟਰੀ\", \"ਪੁੱਤਰ\",\n",
    "  \"ਅੰਤਰਰਾਸ਼ਟਰੀ\", \"ਧਰਤੀ\", \"ਕੇਂਦਰ\", \"ਦੇਸ਼ਾਂ\", \"ਮੱਧ\", \"ਜ਼ਿਲ੍ਹਾ\", \"ਸਾਰੀਆਂ\", \"ਪੱਧਰ\",\n",
    "  \"ਹੋਵੇ\", \"ਜੇ\", \"ਭਾਈ\", \"ਰਹਿਣ\", \"ਪੁਰਸਕਾਰ\", \"ਸਭਿਆਚਾਰ\", \"ਪਤਾ\", \"ਪਾਸੇ\", \"ਨਵੇਂ\",\n",
    "  \"ਕੰਪਨੀ\", \"ਬਾਹਰ\", \"ਵੇਲੇ\", \"ਸੰਨ\", \"ਪੂਰਬੀ\", \"ਵਿਚਾਰ\", \"ਕਾਰਜ\", \"ਪੀ\", \"ਮਹੱਤਵਪੂਰਨ\",\n",
    "  \"ਦੁਨੀਆਂ\", \"ਧਾਰਮਿਕ\", \"ਮਨੁੱਖੀ\", \"ਸਮੂਹ\", \"ਅਜਿਹੇ\", \"ਲਾਲ\", \"ਦੂਜਾ\", \"ਭਰਾ\", \"ਸ੍ਰੀ\",\n",
    "  \"ਅੰਤ\", \"ਜਾਂਦੀਆਂ\", \"ਸ਼ਾਹ\", \"ਰਹਿੰਦੇ\", \"ਮਹਾਨ\", \"ਚੀਨ\", \"ਮੀਟਰ\", \"ਵਰਗੇ\", \"ਨਾਲੋਂ\",\n",
    "  \"ਹਾਸਲ\", \"ਕਿਸਮ\", \"ਅਜਿਹਾ\", \"ਬਣਿਆ\", \"ਭਰ\", \"ਛੱਡ\", \"ਲੈਣ\", \"ਹਿੱਸੇ\", \"ਟੀ\", \"ਲਿਖੇ\",\n",
    "  \"ਮਿਲ\", \"ਮੌਜੂਦ\", \"ਦਿੱਤੇ\", \"ਵਾਸਤੇ\", \"ਵਾਲੀਆਂ\", \"ਵਧੀਆ\", \"ਰੂਸੀ\", \"ਜਾਰੀ\", \"ਸਰਕਾਰੀ\",\n",
    "  \"ਡਿਗਰੀ\", \"ਪੱਛਮ\", \"ਲੜਾਈ\", \"ਭਾਸ਼ਾਵਾਂ\", \"ਰਾਜਾ\", \"ਜਲੰਧਰ\", \"ਹਿੰਦੂ\", \"ਔਰਤ\", \"ਜੰਗ\",\n",
    "  \"ਬਾਬਾ\", \"ਬੱਚਿਆਂ\", \"ਮੰਤਰੀ\", \"ਪਟਿਆਲਾ\", \"ਵਾਂਗ\", \"ਆਉਣ\", \"ਭਾਵੇਂ\", \"ਕੇਵਲ\", \"ਐਸ\",\n",
    "  \"ਪ੍ਰਾਚੀਨ\", \"ਰਹਿੰਦਾ\", \"ਬੋਲੀ\", \"ਅਵਾਰਡ\", \"ਨਗਰ\", \"ਖੇਡਾਂ\", \"ਫਿਲਮਾਂ\", \"ਬੱਚੇ\",\n",
    "  \"ਕੌਰ\", \"ਤੋ\", \"ਪ੍ਰਤੀ\", \"ਕੁਆਂਟਮ\", \"ਅਬਾਦੀ\", \"ਪੁਸਤਕ\", \"ਐਮ\", \"ਰਾਮ\", \"ਖੇਤਰਾਂ\",\n",
    "  \"ਫਰਵਰੀ\", \"ਕ੍ਰਿਕਟ\", \"ਪੈਂਦਾ\", \"ਇਤਿਹਾਸਕ\", \"ਲੱਗ\", \"ਬ੍ਰਿਟਿਸ਼\", \"ਆਇਆ\", \"ਮਿਲਦਾ\"\n",
    "]\n",
    "print(len(stopwords))"
   ]
  },
  {
   "cell_type": "code",
   "execution_count": 7,
   "metadata": {
    "ExecuteTime": {
     "end_time": "2022-04-18T19:04:40.421223Z",
     "start_time": "2022-04-18T19:04:40.421216Z"
    },
    "colab": {},
    "colab_type": "code",
    "id": "sbk0RyZMA0tu"
   },
   "outputs": [],
   "source": [
    "sentences = list()\n",
    "for filename in filename_list[:]:\n",
    "    with open(filename, 'r') as file:\n",
    "      sentence = file.read()\n",
    "      for word in stopwords:\n",
    "        token = \" \" + word +\" \"\n",
    "        sentence.replace(token, \" \")\n",
    "        sentence.replace(\"  \", \" \")\n",
    "      sentences.append(sentence)"
   ]
  },
  {
   "cell_type": "code",
   "execution_count": 8,
   "metadata": {
    "ExecuteTime": {
     "end_time": "2022-04-18T19:04:40.421633Z",
     "start_time": "2022-04-18T19:04:40.421628Z"
    },
    "colab": {
     "base_uri": "https://localhost:8080/",
     "height": 34
    },
    "colab_type": "code",
    "id": "uggXXf-oCGYQ",
    "outputId": "52e75e74-5873-4213-c1e6-e20c178e4a72"
   },
   "outputs": [
    {
     "name": "stdout",
     "output_type": "stream",
     "text": [
      "44547\n"
     ]
    }
   ],
   "source": [
    "print(len(sentences))"
   ]
  },
  {
   "cell_type": "code",
   "execution_count": 9,
   "metadata": {
    "ExecuteTime": {
     "end_time": "2022-04-18T19:04:40.422413Z",
     "start_time": "2022-04-18T19:04:40.422407Z"
    }
   },
   "outputs": [
    {
     "name": "stdout",
     "output_type": "stream",
     "text": [
      "ਯੇਰਵਾਨ ਆਰਮੇਨੀਆ ਦਾ ਇੱਕ ਪ੍ਰਾਂਤ ਹੈ। ਇਸ ਦੀ ਜਨਸੰਖਿਆ 1,091,235 ਹੈ। ਇਹ ਆਬਾਦੀ ਦੇਸ਼ ਦੀ ਕੁਲ ਆਬਾਦੀ ਦਾ 36.3 % ਹੈ। ਇੱਥੇ ਦੀ ਜਨਸੰਖਿਆ ਘਣਤਾ 5, 196 . 4 / km² ਹੈ। ਇੱਥੇ ਦੀ ਰਾਜਧਾਨੀ ਕੋਈ ਨਹੀਂ ਹੈ।\n",
      "\n"
     ]
    }
   ],
   "source": [
    "print(sentences[0])"
   ]
  },
  {
   "cell_type": "markdown",
   "metadata": {
    "colab_type": "text",
    "id": "nfX1lWKTC6ZB"
   },
   "source": [
    "# Configuration for Language Model"
   ]
  },
  {
   "cell_type": "code",
   "execution_count": 10,
   "metadata": {
    "ExecuteTime": {
     "end_time": "2022-04-18T19:04:40.423142Z",
     "start_time": "2022-04-18T19:04:40.423137Z"
    },
    "colab": {},
    "colab_type": "code",
    "id": "N7RoRR7xCuyt"
   },
   "outputs": [],
   "source": [
    "vocab_size = 10000\n",
    "embedding_dim = 100\n",
    "max_length = 1000 \n",
    "trunc_type = 'post'\n",
    "padding_type = 'post'\n",
    "oov_tok = \"<OOV>\""
   ]
  },
  {
   "cell_type": "markdown",
   "metadata": {
    "colab_type": "text",
    "id": "Xfmyb-hiDgIx"
   },
   "source": [
    "# Building a Punjabi Vocabulary "
   ]
  },
  {
   "cell_type": "code",
   "execution_count": 11,
   "metadata": {
    "ExecuteTime": {
     "end_time": "2022-04-18T19:04:40.423650Z",
     "start_time": "2022-04-18T19:04:40.423645Z"
    },
    "colab": {},
    "colab_type": "code",
    "id": "NlNRGUj1Ddgt"
   },
   "outputs": [],
   "source": [
    "tokenizer = Tokenizer(num_words=vocab_size, oov_token=oov_tok)\n",
    "tokenizer.fit_on_texts(sentences)\n",
    "word_index = tokenizer.word_index"
   ]
  },
  {
   "cell_type": "code",
   "execution_count": 12,
   "metadata": {
    "ExecuteTime": {
     "end_time": "2022-04-18T19:04:40.424243Z",
     "start_time": "2022-04-18T19:04:40.424236Z"
    },
    "colab": {
     "base_uri": "https://localhost:8080/",
     "height": 34
    },
    "colab_type": "code",
    "id": "Sb6rG46yDueb",
    "outputId": "84fedbf6-a4db-494a-e117-edc147a02bd6"
   },
   "outputs": [
    {
     "name": "stdout",
     "output_type": "stream",
     "text": [
      "260134\n"
     ]
    }
   ],
   "source": [
    "print(len(word_index))"
   ]
  },
  {
   "cell_type": "code",
   "execution_count": 13,
   "metadata": {
    "ExecuteTime": {
     "end_time": "2022-04-18T19:04:40.424601Z",
     "start_time": "2022-04-18T19:04:40.424597Z"
    },
    "colab": {
     "base_uri": "https://localhost:8080/",
     "height": 185
    },
    "colab_type": "code",
    "id": "V5_CRYRyEGYg",
    "outputId": "7e9c9181-3c2f-42a2-b6c0-53950f867d8f"
   },
   "outputs": [
    {
     "data": {
      "text/plain": [
       "[('<OOV>', 1),\n",
       " ('ਦੇ', 2),\n",
       " ('ਵਿੱਚ', 3),\n",
       " ('ਦੀ', 4),\n",
       " ('ਅਤੇ', 5),\n",
       " ('ਹੈ।', 6),\n",
       " ('ਹੈ', 7),\n",
       " ('ਦਾ', 8),\n",
       " ('ਨੂੰ', 9),\n",
       " ('ਇੱਕ', 10)]"
      ]
     },
     "execution_count": 13,
     "metadata": {},
     "output_type": "execute_result"
    }
   ],
   "source": [
    "list(word_index.items())[:10]"
   ]
  },
  {
   "cell_type": "markdown",
   "metadata": {
    "colab_type": "text",
    "id": "pbml6bEaGic-"
   },
   "source": [
    "# Preprocessing Dataset for Classification task "
   ]
  },
  {
   "cell_type": "code",
   "execution_count": 14,
   "metadata": {
    "ExecuteTime": {
     "end_time": "2022-04-18T19:04:40.425457Z",
     "start_time": "2022-04-18T19:04:40.425452Z"
    },
    "colab": {},
    "colab_type": "code",
    "id": "hvA72bstEKuv"
   },
   "outputs": [],
   "source": [
    "train_sentences = list()\n",
    "train_labels = list ()\n",
    "with open(\"dataset_for_classification/train.csv\", 'r') as csvfile:\n",
    "  reader = csv.reader(csvfile, delimiter = ',')\n",
    "  next(reader)\n",
    "  for row in reader:\n",
    "    label = row[1]\n",
    "    train_labels.append(label)\n",
    "    sentence = row[0]\n",
    "    for word in stopwords:\n",
    "      token = \" \" + word +\" \"\n",
    "      sentence.replace(token, \" \")\n",
    "      sentence.replace(\"  \", \" \")\n",
    "    train_sentences.append(sentence)"
   ]
  },
  {
   "cell_type": "code",
   "execution_count": 15,
   "metadata": {
    "ExecuteTime": {
     "end_time": "2022-04-18T19:04:40.425902Z",
     "start_time": "2022-04-18T19:04:40.425897Z"
    }
   },
   "outputs": [
    {
     "name": "stdout",
     "output_type": "stream",
     "text": [
      " ਮਾਇਆਵਤੀ ਅਤੇ ਮੁਲਾਇਮ ਸਿੰਘ ਯਾਦਵ ਨੂੰ ਦੁਸ਼ਮਣ ਬਣਾਉਣ ਵਾਲਾ ਗੈਸਟ ਹਾਊਸ ਕਾਂਡ  ਭਰਤ ਸ਼ਰਮਾ ਬੀਬੀਸੀ ਪੱਤਰਕਾਰ       13 ਜਨਵਰੀ 2019                                              ਈਮੇਲ                                                 ਸਾਂਝਾ ਕਰੋ                                                 ਈਮੇਲ  ਈਮੇਲ    ਲਿੰਕ ਨੂੰ ਕਾਪੀ ਕਰੋ  https://www.bbc.com/punjabi/india-46850353  ਸਾਂਝਾ ਕਰਨ ਬਾਰੇ ਹੋਰ ਪੜ੍ਹੋ   ਸਾਂਝਾ ਕਰਨ ਵਾਲੇ ਪੈਨਲ ਨੂੰ ਬੰਦ ਕਰੋ              Image copyright Getty Images  ਉੱਤਰ ਪ੍ਰਦੇਸ਼ ਦੀ ਰਾਜਧਾਨੀ ਲਖਨਊ ਵਿੱਚ ਬਹੁਜਨ ਸਮਾਜ ਪਾਰਟੀ ਅਤੇ ਅਤੇ ਸਮਾਜਵਾਦੀ ਪਾਰਟੀ ਨੇ ਸਮਝੌਤੇ ਦਾ ਐਲਾਨ ਕੀਤਾ। ਬਸਪਾ ਦੀ ਸੁਪਰੀਮੋ ਮਾਇਆਵਤੀ ਅਤੇ ਸਪਾ ਮੁਖੀ ਅਖਿਲੇਸ਼ ਯਾਦਵ ਨੇ ਦੱਸਿਆ ਕਿ ਇਹ ਸਿਰਫ 2019 ਦੀਆਂ ਲੋਕ ਸਭਾ ਚੋਣਾਂ ਲਈ ਨਹੀਂ ਹੈ ਸਗੋਂ ਲੰਬੇ ਸਮੇਂ ਤੱਕ ਚੱਲੇਗਾ।ਦੋਹਾਂ ਧਿਰਾਂ ਨੇ ਕਿਹਾ ਕਿ ਉਹ ਲੋਕ ਸਭਾ ਚੋਣਾਂ ਵਿੱਚ ਸੂਬੇ ਦੀਆਂ 38-38 ਸੀਟਾਂ 'ਤੇ ਚੋਣ ਲੜਨਗੀਆਂ। ਰਾਇਬਰੇਲੀ ਅਤੇ ਅਮੇਠੀ ਸੀਟ ਕਾਂਗਰਸ ਲਈ ਛੱਡ ਦਿੱਤੀ ਗਈ ਹੈ ਅਤੇ ਬਾਕੀ ਦੋ ਸੀਟਾਂ ਸਹਿਯੋਗੀਆਂ ਲਈ ਛੱਡ ਦਿੱਤੀਆਂ ਗਈਆਂ ਹਨ।ਪ੍ਰੈਸ ਕਾਨਫਰੰਸ ਨੂੰ ਸੰਬੋਧਨ ਕਰਦਿਆਂ ਮਾਇਆਵਤੀ ਗੈਸਟ ਹਾਊਸ ਕਾਂਡ ਦਾ ਜ਼ਿਕਰ ਕਰਨਾ ਨਹੀਂ ਭੁੱਲੇ ਅਤੇ ਉਨ੍ਹਾਂ ਕਿਹਾ ਕਿ ਦਹਿਸ਼ਤ ਅਤੇ ਜਨਹਿਤ ਵਿੱਚ ਉਨ੍ਹਾਂ ਨੇ ਇਸ ਗਠਬੰਧਨ ਨੂੰ ਪਹਿਲ ਦਿੱਤੀ ਹੈ।ਮਾਇਆਵਤੀ ਨੇ ਕਿਹਾ, \"1993 ਵਿਧਾਨ ਸਭਾ ਚੋਣਾਂ ਵਿੱਚ ਵੀ ਦੋਹਾਂ ਪਾਰਟੀਆਂ ਦਾ ਗਠਜੋੜ  ਹੋਇਆ ਸੀ ਅਤੇ ਉਸ ਸਮੇਂ ਸਪਾ-ਬੀਐਸਪੀ ਨੇ ਹਵਾਵਾਂ ਦਾ ਮੂੰਹ ਮੋੜ ਕੇ ਸਰਕਾਰ ਬਣਾਈ ਸੀ। ਹਾਲਾਂਕਿ ਇਹ ਗੱਠਜੋੜ ਕੁਝ ਗੰਭੀਰ ਕਾਰਨਾਂ ਕਾਰਨ ਬਹੁਤੀ ਦੇਰ ਨਹੀਂ ਚੱਲ ਸਕਿਆ। ਦੇਸ਼ ਦੇ ਭਲੇ ਅਤੇ ਲੋਕਹਿੱਤ ਨੂੰ 1995 ਦੇ ਲਖਨਊ ਗੈਸਟ ਹਾਊਸ ਕਾਂਡ ਤੋਂ ਉੱਪਰ ਰੱਖਦੇ ਹੋਏ ਸਿਆਸੀ ਤਾਲਮੇਲ ਦਾ ਫੈਸਲਾ ਕੀਤਾ ਹੈ।\"ਇਹ ਵੀ ਪੜ੍ਹੋ:ਲਿੰਗ ਬਦਲਾਅ ਕੇ ਕੁੜੀ ਤੋਂ ਮੁੰਡਾ ਬਣੇ ਦੇਵ ਦੇ ਇਸ਼ਕ ਦੀ ਕਹਾਣੀ ਬਰਫ਼ 'ਚ ਸੁੱਤੇ 'ਭਾਰਤੀ ਫੌਜੀਆਂ' ਦੀਆਂ ਤਸਵੀਰਾਂ ਦਾ ਸੱਚਰਾਮ ਰਹੀਮ ਪੱਤਰਕਾਰ ਛੱਤਰਪਤੀ ਦੇ ਕਤਲ ਦਾ ਦੋਸ਼ੀਕੁੜੱਤਣ ਦਾ ਸਬੱਬ ਕੀ ਸੀ?ਲਖਨਊ ਦੇ ਗੈਸਟ ਹਾਊਸ ਵਿੱਚ ਅਜਿਹਾ ਕੀ ਹੋਇਆ ਸੀ ਜਿਸ ਨਾਲ ਦੋਹਾਂ ਪਾਰਟੀਆਂ ਦੀ ਦੋਸਤੀ ਅਚਾਨਕ ਦੁਸ਼ਮਣੀ ਵਿੱਚ ਬਦਲ ਗਈ।ਇਸ ਨੂੰ ਸਮਝਣ ਲਈ ਕਰੀਬ 28 ਸਾਲ ਪਿੱਛੇ ਜਾਣਾ ਪਵੇਗਾ। ਉੱਤਰ ਪ੍ਰਦੇਸ਼ ਦੀ ਸਿਆਸਤ ਵਿੱਚ ਸਾਲ 1995 ਅਤੇ ਗੈਸਟ ਹਾਊਸ ਕਾਂਡ ਦੋਵੇਂ ਹੀ ਅਹਿਮ ਹਨ।   Image copyright मेंहदी हसन   ਫੋਟੋ ਕੈਪਸ਼ਨ                     ਮਾਇਆਵਤੀ ਮੁਤਾਬਕ ਉਨ੍ਹਾਂ ਨੇ ਦੇਸ਼ ਦੇ ਭਲੇ ਅਤੇ ਲੋਕਹਿੱਤ ਨੂੰ 1995 ਦੇ ਲਖਨਊ ਗੈਸਟ ਹਾਊਸ ਕਾਂਡ ਤੋਂ ਉੱਪਰ ਰੱਖਦੇ ਹੋਏ ਸਿਆਸੀ ਤਾਲਮੇਲ ਦਾ ਫੈਸਲਾ ਕੀਤਾ ਹੈ।                  ਉਹ ਦਿਨ ਨਾ ਸਿਰਫ਼ ਭਾਰਤੀ ਸਿਆਸਤ ਲਈ ਮਨਹੂਸ ਸੀ ਸਗੋਂ ਉਸ ਨੇ ਮਾਇਆ ਅਤੇ ਮੁਲਾਇਮ ਵਿਚਕਾਰ ਵੀ ਇੱਕ ਡੂੰਘੀ ਖੱਡ ਪੁੱਟ ਦਿੱਤੀ ਜਿਸ ਨੂੰ ਸਮਾਂ ਵੀ ਨਹੀਂ ਭਰ ਸਕਿਆ।ਅਸਲ ਵਿੱਚ ਸਾਲ 1992 ਵਿੱਚ ਮੁਲਾਇਮ ਸਿੰਘ ਯਾਦਵ ਨੇ ਸਮਾਜਵਾਦੀ ਪਾਰਟੀ ਬਣਾਈ ਅਤੇ ਇਸ ਤੋਂ ਅਗਲੇ ਸਾਲ ਭਾਜਪਾ ਦਾ ਰਾਹ ਰੋਕਣ ਲਈ ਸਿਆਸੀ ਸਾਂਝੇਦਾਰੀ ਕਰਦਿਆਂ ਬੀਐਸਪੀ ਨਾਲ ਹੱਥ ਮਿਲਾਇਆ।ਇਹ ਵੀ ਪੜ੍ਹੋ:ਮਾਇਆਵਤੀ ਨੂੰ ਕਿਉਂ ਆਈ ਬੁੱਧ ਧਰਮ ਦੀ ਯਾਦ?ਭਾਜਪਾ ਨੇ ਅੰਬੇਡਕਰ ਦੇ ਨਾਂ ਨਾਲ 'ਰਾਮ ਜੀ' ਕਿਉਂ ਲਾਇਆ?ਗੈਸਟ ਹਾਊਸ ਕਾਂਡਸਮਾਜਵਾਦੀ ਪਾਰਟੀ ਅਤੇ ਬੀਐਸਪੀ ਨੇ 256 ਅਤੇ 264 ਸੀਟਾਂ ਉੱਪਰ ਮਿਲ ਕੇ ਚੋਣਾਂ ਲੜੀਆਂ। ਸਮਾਜਵਾਦੀ ਪਾਰਟੀ 109 ਸੀਟਾਂ ਜਿੱਤ ਸਕੀ ਜਦਕਿ 67 ਸੀਟਾਂ ਉੱਤੇ ਮਾਇਆਵਤੀ ਦੀ ਪਾਰਟੀ ਨੇ ਜਿੱਤ ਹਾਸਿਲ ਕੀਤੀ। ਪਰ ਦੋਹਾਂ ਪਾਰਟੀਆਂ ਦਾ ਇਹ ਰਿਸ਼ਤਾ ਜ਼ਿਆਦਾ ਦੇਰ ਨਹੀਂ ਚੱਲਿਆ।ਸਾਲ 1995 ਦੀਆਂ ਗਰਮੀਆਂ ਦੋਹਾਂ ਦਾ ਰਿਸ਼ਤਾ ਖ਼ਤਮ ਕਰਨ ਦਾ ਸਮਾਂ ਲੈ ਕੇ ਆਈਆਂ। ਇਸ ਦਿਨ ਜੋ ਵਾਪਰਿਆ ਉਸ ਕਾਰਨ ਬੀਐਸਪੀ  ਨੇ ਸਰਕਾਰ ਤੋਂ ਹਮਾਇਤ ਵਾਪਸ ਲੈ ਲਈ ਅਤੇ ਸਰਕਾਰ --- ਵਿੱਚ ਆ ਗਈ।   Image copyright Getty Images/SP  ਭਾਜਪਾ ਮਾਇਆਵਤੀ ਲਈ ਸਹਾਰਾ ਬਣ ਕੇ ਆਈ ਅਤੇ ਕੁਝ ਹੀ ਦਿਨਾਂ ਵਿੱਚ ਤਤਕਾਲੀ ਗਵਰਨਰ ਮੋਤੀ ਲਾਲ ਵੋਹਰਾ ਨੂੰ ਉਹ ਚਿੱਠੀ ਭੇਜੀ ਗਈ ਕਿ ਜੇ ਬੀਐਸਪੀ ਸਰਕਾਰ ਬਣਾਉਣ ਦਾ ਦਾਅਵਾ ਪੇਸ਼ ਕਰੇ ਤਾਂ ਭਾਜਪਾ ਉਸ ਦੇ ਨਾਲ ਹੈ।ਸੀਨੀਅਰ ਪੱਤਰਕਾਰ ਅਤੇ ਉਸ ਦਿਨ ਗੈਸਟ ਹਾਊਸ ਦੇ ਬਾਹਰ ਮੌਜੂਦ ਸ਼ਰਤ ਪ੍ਰਧਾਨ ਨੇ ਬੀਬੀਸੀ ਨੂੰ ਦੱਸਿਆ ਕਿ ਉਹ ਦੌਰ ਸੀ ਜਦੋਂ ਮੁਲਾਇਮ ਸਿੰਘ ਯਾਦਵ ਦੀ ਸਰਕਾਰ ਸੀ। ਜਿਸ ਨੂੰ ਬੀਐਸਪੀ ਬਾਹਰੋਂ ਹਮਾਇਤ ਦੇ ਰਹੀ ਸੀ।ਸਾਲ ਭਰ ਇਹ ਗੱਠਜੋੜ ਚੱਲਿਆ ਅਤੇ ਬਾਅਦ ਵਿੱਚ ਮਾਇਆਵਤੀ ਦੇ ਭਾਜਪਾ ਨਾਲ ਤਾਲਮੇਲ ਦੀਆਂ ਖ਼ਬਰਾਂ ਆਈਆਂ। ਇਨ੍ਹਾਂ ਖ਼ਬਰਾਂ ਦਾ ਭੇਤ ਅੱਗੇ ਜਾ ਕੇ ਖੁੱਲ੍ਹਿਆ। ਕੁਝ ਸਮੇਂ ਬਾਅਦ ਮਾਇਆਵਤੀ ਨੇ ਆਪਣਾ ਫੈਸਲਾ ਭਾਜਪਾ ਨੂੰ ਸੁਣਾ ਦਿੱਤਾ।ਉਨ੍ਹਾਂ ਨੇ ਕਿਹਾ, ''ਇਸ ਫੈਸਲੇ ਤੋਂ ਬਾਅਦ ਮਾਇਆਵਤੀ ਨੇ ਗੈਸਟ ਹਾਊਸ ਵਿੱਚ ਆਪਣੇ ਵਿਧਾਨ ਸਭਾ ਮੈਂਬਰਾਂ ਦੀ ਬੈਠਕ ਬੁਲਾਈ ਸੀ। ਬੀਐਸਪੀ ਅਤੇ ਭਾਜਪਾ ਦੀ ਗੰਢ-ਤੁਪ ਹੋ ਗਈ ਅਤੇ ਉਹ ਸਮਾਜਵਾਦੀ ਪਾਰਟੀ ਦਾ ਪੱਲਾ ਛੱਡਣ ਵਾਲੀ ਸੀ।\"   Image copyright Getty Images  ਪ੍ਰਧਾਨ ਨੇ ਦੱਸਿਆ, \"ਜਾਣਕਾਰੀ ਮਿਲਣ ਤੋਂ ਬਾਅਦ ਵੱਡੀ ਸੰਖਿਆ ਵਿੱਚ ਸਮਾਜਵਾਦੀ ਪਾਰਟੀ ਦੇ ਲੋਕ ਗੈਸਟ ਹਾਊਸ ਦੇ ਬਾਹਰ ਇਕੱਠੇ ਹੋ ਗਏ ਅਤੇ ਕੁਝ ਹੀ ਦੇਰ ਵਿੱਚ ਗੈਸਟ ਹਾਊਸ ਦੇ ਅੰਦਰ ਜਿੱਥੇ ਬੈਠਕ ਚੱਲ ਰਹੀ ਸੀ ਉੱਥੇ ਪਹੁੰਚ ਗਏ। ਉੱਥੇ ਮੌਜੂਦ ਬੀਐਸਪੀ ਵਰਕਰਾਂ ਨੂੰ ਕੁੱਟਣਾ ਸ਼ੁਰੂ ਕਰ ਦਿੱਤਾ। ਇਹ ਸਭ ਮੈਂ ਆਪਣੀਆਂ ਅੱਖਾਂ ਨਾਲ ਦੇਖਿਆ।\"ਫਿਰ ਮਾਇਆਵਤੀ ਤੁਰੰਤ ਹੀ ਇੱਕ ਕਮਰੇ ਵਿੱਚ ਛੁਪ ਗਏ ਅਤੇ ਆਪਣੇ-ਆਪ ਨੂੰ ਬੰਦ ਕਰ ਲਿਆ। ਉਨ੍ਹਾਂ ਨਾਲ ਦੋ ਲੋਕ ਹੋਰ ਵੀ ਸਨ। ਜਿਨ੍ਹਾਂ ਵਿੱਚੋਂ ਇੱਕ ਸਿਕੰਦਰ ਰਿਜ਼ਵੀ ਸਨ। ਉਸ ਵੇਲੇ ਪੇਜਰ ਦਾ ਜ਼ਮਾਨਾ ਹੁੰਦਾ ਸੀ, ਰਿਜ਼ਵੀ ਨੇ ਮੈਨੂੰ ਬਾਅਦ ਵਿੱਚ ਦੱਸਿਆ ਕਿ ਪੇਜਰ 'ਤੇ ਇਹ ਸੂਚਨਾ ਦਿੱਤੀ ਗਈ ਸੀ ਕਿ ਕਿਸੇ ਵੀ ਹਾਲਤ ਵਿੱਚ ਦਰਵਾਜ਼ਾ ਨਾ ਖੋਲ੍ਹਿਓ।\"ਇਹ ਵੀ ਪੜ੍ਹੋ:‘ਦੇਸ ਬਾਰੇ ਚਿੰਤਾ ਛੱਡੋ, ਸਿਰਫ਼  ਹਿੰਦੂ ਹੋਣ 'ਤੇ ਮਾਣ ਕਰੋ’'ਭੂਆ-ਭਤੀਜੇ' ਦੀ ਜੋੜੀ ਇਸ ਲਈ ਬਣ ਰਹੀ ਮੋਦੀ ਲਈ ਸਿਰਦਰਦਇਹ ਦਲਿਤ ਬੁੱਧ ਧਰਮ ਧਾਰਨ ਨੂੰ ਕਿਉਂ ਮਜਬੂਰ ਹੋਏ?\"ਦਰਵਾਜ਼ਾ ਜ਼ੋਰ-ਜ਼ੋਰ ਨਾਲ ਖੜਕਾਇਆ ਜਾ ਰਿਹਾ ਸੀ ਅਤੇ ਬੀਐਸਪੀ ਦੇ ਕਈ ਲੋਕਾਂ ਦੀ ਕਾਫ਼ੀ ਮਾਰ ਕੁੱਟ ਕੀਤੀ ਗਈ। ਇਸ ਵਿੱਚੋਂ ਕੁਝ ਜ਼ਖਮੀ ਵੀ ਹੋਏ ਅਤੇ ਕੁਝ ਭੱਜਣ ਵਿੱਚ ਕਾਮਯਾਬ ਰਹੇ।\"ਪ੍ਰਧਾਨ ਦੇ ਮੁਤਾਬਕ ਉਸ ਸਮੇਂ ਬੀਐਸਪੀ ਆਗੂਆਂ ਨੇ ਸੂਬੇ ਦੇ ਸੀਨੀਅਰ ਪੁਲਿਸ ਅਫ਼ਸਰਾਂ ਨੂੰ ਫੋਨ ਕਰਕੇ ਬੁਲਾਉਣ ਦੀ ਕੋਸ਼ਿਸ਼ ਕੀਤੀ ਪਰ ਕਿਸੇ ਨੇ ਫੋਨ ਨਹੀਂ ਚੁੱਕਿਆ।ਜਦੋਂ ਮਾਇਆਵਤੀ ਨੂੰ ਕਮਰੇ ਵਿੱਚ ਲੁਕਣਾ ਪਿਆਇਸੇ ਦੌਰਾਨ ਮਾਇਆਵਤੀ ਜਿਸ ਕਮਰੇ ਵਿੱਚ ਲੁਕੇ ਸਨ, ਸਪਾ ਦੇ ਲੋਕ ਉਸ ਨੂੰ ਖੋਲ੍ਹਣ ਦੀ ਕੋਸ਼ਿਸ਼ ਕਰ ਰਹੇ ਸਨ ਅਤੇ ਬਚਣ ਲਈ ਅੰਦਰ ਮੌਜੂਦ ਲੋਕਾਂ ਨੇ ਦਰਵਾਜ਼ੇ ਦੇ ਨਾਲ ਸੋਫ਼ੇ ਅਤੇ ਮੇਜ਼ ਲਾ ਦਿੱਤੇ ਤਾਂ ਕਿ ਚਿਟਕਣੀ ਟੁੱਟਣ ਦੀ ਸੂਰਤ ਵਿੱਚ ਦਰਵਾਜ਼ਾ ਨਾ ਖੁੱਲ੍ਹ ਸਕੇ।\"   Image copyright SANJAY SHARMA  ਸੀਨੀਅਰ ਪੱਤਰਕਾਰ ਰਾਮ ਦੱਤ ਤ੍ਰਿਪਾਠੀ ਦਾ ਕਹਿਣਾ ਹੈ ਕਿ ਸਾਲ 1992 ਵਿੱਚ ਜਦੋਂ ਬਾਬਰੀ ਮਸਜਿਦ ਤੋੜੀ ਗਈ ਤਾਂ ਉਸ ਤੋਂ ਬਾਅਦ 1993 ਵਿੱਚ ਸਪਾ-ਬੀਐਸਪੀ ਨੇ ਭਾਜਪਾ ਨੂੰ ਰੋਕਣ ਲਈ ਹੱਥ ਮਿਲਾਉਣ ਦਾ ਫੈਸਲਾ ਕੀਤਾ ਅਤੇ ਪਹਿਲੀ ਵਾਰ ਸਾਂਝੀ ਸਰਕਾਰ ਬਣਾਈ ਜਿਸ ਦੇ ਮੁਲਾਇਮ ਸਿੰਘ ਮੁੱਖ ਮੰਤਰੀ ਬਣੇ।ਉਸ ਸਮੇਂ ਦਿੱਲੀ ਵਿੱਚ ਨਰਸਿੰਮ੍ਹਾ ਰਾਓ ਦੀ ਸਰਕਾਰ ਸੀ ਅਤੇ ਭਾਜਪਾ ਦੇ ਵੱਡੇ ਆਗੂ ਅਟਲ ਬਿਹਾਰੀ ਵਾਜਪਾਈ ਸਨ। ਦਿੱਲੀ ਵਿੱਚ ਇਸ ਗੱਲ ਦੀ ਫਿਕਰ ਪੈ ਗਈ ਕਿ ਜੇ ਲਖਨਊ ਵਿੱਚ ਇਹ ਸਾਂਝ ਟਿਕ ਗਈ ਤਾਂ ਮੁਸ਼ਕਿਲਾਂ ਵਧ ਸਕਦੀਆਂ ਹਨ।ਇਸ ਲਈ ਭਾਜਪਾ ਨੇ ਬੀਐਸਪੀ ਦੀ ਪੇਸ਼ਕਸ਼ ਕੀਤੀ ਗਈ ਕਿ ਉਹ ਸਮਾਜਵਾਦੀ ਪਾਰਟੀ ਤੋਂ ਰਿਸ਼ਤਾ ਤੋੜ ਲਵੇ ਤਾਂ ਭਾਜਪਾ ਦੀ ਹਮਾਇਤ ਨਾਲ ਉਨ੍ਹਾਂ ਨੂੰ ਮੁੱਖ ਮੰਤਰੀ ਬਣਨ ਦਾ ਮੌਕਾ ਮਿਲ ਸਕਦਾ ਹੈ।\"ਮੁਲਾਇਮ ਸਿੰਘ ਯਾਦਵ ਨੂੰ ਇਸ ਦਾ ਸ਼ੱਕ ਹੋ ਗਿਆ ਸੀ ਅਤੇ ਉਹ ਚਾਹੁੰਦੇ ਸਨ ਕਿ ਉਨ੍ਹਾਂ ਸਦਨ ਵਿੱਚ ਬਹੁਮਤ ਸਾਬਤ ਕਰਨ ਦਾ ਮੌਕਾ ਦਿੱਤਾ ਜਾਵੇ ਪਰ ਰਾਜਪਾਲ ਨੇ ਅਜਿਹਾ ਨਹੀਂ ਕਰਨ ਦਿੱਤਾ।\"   Image copyright Getty Images  ਮਾਇਆ ਦਾ ਰਾਖਾ ਬਣ ਕੇ ਕੌਣ ਬਹੁੜਿਆ?\"ਇਸੇ ਖਿੱਚੋ-ਤਾਣ ਵਿੱਚ ਆਪਣੇ ਵਿਧਾਇਕਾਂ ਨੂੰ ਇਕਜੁੱਟ ਰੱਖਣ ਲਈ ਬੀਐਸਪੀ ਨੇ ਸਾਰਿਆਂ ਨੂੰ ਗੈਸਟ ਹਾਊਸ ਵਿੱਚ ਇਕੱਠੇ ਕੀਤਾ ਅਤੇ ਮਾਇਆਵਤੀ ਵੀ ਉੱਥੇ ਹੀ ਸੀ। ਉਸੇ ਸਮੇਂ ਸਮਾਜਵਾਦੀ ਪਾਰਟੀ ਦੇ ਹਮਾਇਤੀ ਨਾਅਰੇਬਾਜ਼ੀ ਕਰਦੇ ਹੋਏ ਉੱਥੇ ਪਹੁੰਚ ਗਏ।\"ਬੀਐਸਪੀ ਦਾ ਇਲਜ਼ਾਮ ਸੀ ਕਿ ਸਮਾਜਵਾਦੀ ਪਾਰਟੀ ਦੇ ਲੋਕਾਂ ਨੇ ਮਾਇਆਵਤੀ ਨੂੰ ਧੱਕਾ ਦਿੱਤਾ ਅਤੇ ਮੁੱਕਦਮਾਂ ਇਹ ਦਰਜ ਕਰਵਾਇਆ ਕਿ ਉਹ ਲੋਕ ਉਨ੍ਹਾਂ ਨੂੰ ਜਾਨ ਤੋਂ ਮਾਰਨਾ ਚਾਹੁੰਦੇ ਸਨ। ਇਸੇ ਕਾਂਡ ਨੂੰ ਗੈਸਟ ਹਾਊਸ ਕਿਹਾ ਜਾਂਦਾ ਹੈ।ਅਜਿਹਾ ਵੀ ਕਿਹਾ ਜਾਂਦਾ ਹੈ ਕਿ ਭਾਜਪਾ ਵਾਲੇ ਮਾਇਆਵਤੀ ਨੂੰ ਬਚਾਉਣ ਲਈ ਉੱਥੇ ਪਹੁੰਚੇ ਪਰ ਸ਼ਰਤ ਪ੍ਰਧਾਨ ਦਾ ਕਹਿਣਾ ਹੈ ਕਿ ਇਨ੍ਹਾਂ ਦਾਅਵਿਆਂ ਵਿੱਚ ਦਮ ਨਹੀਂ ਹੈ।ਆਪਣੀ ਮੋਬਾਈਲ ਸਕਰੀਨ 'ਤੇ ਬੀਬੀਸੀ ਦੀ ਵੈੱਬਸਾਈਟ ਦਾ ਸ਼ਾਰਟਕੱਟ ਪਾਉਣ ਲਈ ਵੀਡੀਓ ਦੇਖੋ     Image Copyright BBC News Punjabi BBC News Punjabi       Image Copyright BBC News Punjabi BBC News Punjabi    ਉਨ੍ਹਾਂ ਨੇ ਕਿਹਾ, \"ਮਾਇਆਵਤੀ ਦੇ ਬਚਣ ਦਾ ਕਾਰਨ ਮੀਡੀਆ ਸੀ। ਉਸ ਸਮੇਂ ਗੈਸਟ ਹਾਊਸ ਦੇ ਬਾਹਰ ਵੱਡੀ ਗਿਣਤੀ ਵਿੱਚ ਪੱਤਰਕਾਰ ਮੌਜੂਦ ਸਨ। ਸਮਾਜਵਾਦੀ ਪਾਰਟੀ ਵਾਲੇ ਉੱਥੋਂ ਮੀਡੀਆ ਨੂੰ ਹਟਾਉਣ ਦੀ ਕੋਸ਼ਿਸ਼ ਕਰ ਰਹੇ ਸਨ ਪਰ ਅਜਿਹਾ ਹੋ ਨਾ ਸਕਿਆ।\"\"ਕੁਝ ਅਜਿਹੇ ਲੋਕ ਵੀ ਸਪਾ ਵੱਲੋਂ ਭੇਜੇ ਗਏ ਸਨ ਜੋ ਮਾਇਆਵਤੀ ਨੂੰ ਸਮਝਾ ਕੇ ਦਰਵਾਜ਼ਾ ਖੁਲਵਾ ਸਕਣ ਪਰ ਉਨ੍ਹਾਂ ਨੇ ਅਜਿਹਾ ਨਹੀਂ ਕੀਤਾ।\"ਇਸ ਤੋਂ ਅਗਲੇ ਦਿਨ ਭਾਜਪਾ ਵਾਲੇ ਰਾਜਪਾਲ ਕੋਲ ਪਹੁੰਚ ਗਏ ਸਨ ਕਿ ਉਹ ਸਰਕਾਰ ਬਣਾਉਣ ਲਈ ਬੀਐਸਪੀ ਦਾ ਸਾਥ ਦੇਣਗੇ। ਉਸ ਸਮੇਂ ਕਾਂਸ਼ੀ ਰਾਮ ਨੇ ਮਾਇਆਵਤੀ ਨੂੰ ਮੁੱਖ ਮੰਤਰੀ ਬਣਾਇਆ ਇੱਥੋਂ ਹੀ ਮਾਇਆਵਤੀ ਨੇ ਪੌੜੀਆਂ ਚੜ੍ਹਨਾ ਸ਼ੁਰੂ ਕੀਤੀਆਂ।   Image copyright COURTESY BADRINARAYAN  ਕੀ ਮਾਇਆਵਤੀ ਨੇ ਕਦੇ ਖੁੱਲ੍ਹ ਕੇ ਇਸ ਦਿਨ ਬਾਰੇ ਦੱਸਿਆ ਕਿ ਅਸਲ ਵਿੱਚ ਉਸ ਦਿਨ ਕੀ ਹੋਇਆ ਸੀ? ਪ੍ਰਧਾਨ ਨੇ ਦੱਸਿਆ, ਜੀ ਹਾਂ, ਕਈ ਵਾਰ, ਮੈਨੂੰ ਇੱਕ ਇੰਟਰਵਿਊ ਵਿੱਚ ਜਾਂ ਫਿਰ ਇੱਕ ਪ੍ਰੈਸ ਕਾਨਫਰੰਸ ਵਿੱਚ ਉਨ੍ਹਾਂ ਨੇ ਖ਼ੁਦ ਕਿਹਾ ਕਿ ਉਨ੍ਹਾਂ ਦਾ ਮੰਨਣਾ ਹੈ ਕਿ ਉਨ੍ਹਾਂ ਨੂੰ ਉਸ ਦਿਨ ਮਾਰਨ ਦੀ ਸਾਜਿਸ਼ ਸੀ। ਜਿਸ ਨਾਲ ਬੀਐਸਪੀ ਨੂੰ ਖ਼ਤਮ ਕਰ ਦਿੱਤਾ ਜਾਵੇ।\"\"ਮਾਇਆਵਤੀ ਨੂੰ ਸਮਾਜਵਾਦੀ ਪਾਰਟੀ ਤੋਂ ਇੰਨੀ ਨਫ਼ਰਤ ਇਸ ਲਈ ਹੋ ਗਈ ਕਿਉਂਕਿ ਉਨ੍ਹਾਂ ਦਾ ਮੰਨਣਾ ਹੈ ਕਿ ਗੈਸਟ ਹਾਊਸ ਵਿੱਚ ਉਸ ਦਿਨ ਜੋ ਕੁਝ ਹੋਇਆ, ਉਹ ਮਾਇਆਵਤੀ ਦੀ ਜਾਣ ਲੈਣ ਦੀ ਸਾਜ਼ਿਸ਼ ਸੀ।\"ਇਹ ਵੀ ਪੜ੍ਹੋ:ਮਾਇਆਵਤੀ ਨੂੰ ਪੀਐੱਮ ਬਣਾਉਣ ਬਾਰੇ ਅਖਿਲੇਸ਼ ਨੇ ਕੀ ਕਿਹਾਸਾਊਦੀ ਅਰਬ ਦੀ ਔਰਤਾਂ ਕਿਵੇਂ ਜਿਉਂਦੀਆਂ ਹਨ ਮਰਦਾਂ ਦੇ ਅਧੀਨ ਜ਼ਿੰਦਗੀਕੀ ਬਾਲੀਵੁੱਡ ਨੇ ਮੋਦੀ ਅੱਗੇ ਰਾਮ ਮੰਦਿਰ ਦੀ ਮੰਗ ਰੱਖੀ?ਤੁਹਾਨੂੰ ਇਹ ਵੀਡੀਓ ਵੀ ਪਸੰਦ ਆ ਸਕਦੇ ਹਨ:     Image Copyright BBC News Punjabi BBC News Punjabi       Image Copyright BBC News Punjabi BBC News Punjabi         Image Copyright BBC News Punjabi BBC News Punjabi       Image Copyright BBC News Punjabi BBC News Punjabi    (ਬੀਬੀਸੀ ਪੰਜਾਬੀ ਨਾਲ , , ਅਤੇ  'ਤੇ ਜੁੜੋ।) \n"
     ]
    }
   ],
   "source": [
    "print(train_sentences[0])"
   ]
  },
  {
   "cell_type": "code",
   "execution_count": 16,
   "metadata": {
    "ExecuteTime": {
     "end_time": "2022-04-18T19:04:40.426339Z",
     "start_time": "2022-04-18T19:04:40.426334Z"
    }
   },
   "outputs": [
    {
     "name": "stdout",
     "output_type": "stream",
     "text": [
      "True\n"
     ]
    }
   ],
   "source": [
    "print(train_labels[0])"
   ]
  },
  {
   "cell_type": "code",
   "execution_count": 17,
   "metadata": {
    "ExecuteTime": {
     "end_time": "2022-04-18T19:04:40.426994Z",
     "start_time": "2022-04-18T19:04:40.426989Z"
    },
    "colab": {},
    "colab_type": "code",
    "id": "cdfriQHqIFV8"
   },
   "outputs": [],
   "source": [
    "val_sentences = list()\n",
    "val_labels = list ()\n",
    "with open(\"dataset_for_classification/valid.csv\", 'r') as csvfile:\n",
    "  reader = csv.reader(csvfile, delimiter = ',')\n",
    "  next(reader)\n",
    "  for row in reader:\n",
    "    label = row[1]\n",
    "    val_labels.append(label)\n",
    "    sentence = row[0]\n",
    "    for word in stopwords:\n",
    "      token = \" \" + word +\" \"\n",
    "      sentence.replace(token, \" \")\n",
    "      sentence.replace(\"  \", \" \")\n",
    "    val_sentences.append(sentence)"
   ]
  },
  {
   "cell_type": "code",
   "execution_count": 18,
   "metadata": {
    "ExecuteTime": {
     "end_time": "2022-04-18T19:04:40.427547Z",
     "start_time": "2022-04-18T19:04:40.427540Z"
    }
   },
   "outputs": [
    {
     "name": "stdout",
     "output_type": "stream",
     "text": [
      " ਹਾਈ ਹੀਲ ਦੀ ਜੁੱਤੀ ਕਦੋਂ, ਕਿੱਥੇ ਅਤੇ ਕਿਵੇਂ ਆਈ ਪ੍ਰਚਲਨ ਵਿੱਚ   ਭੂਮਿਕਾ ਰਾਏ ਬੀਬੀਸੀ ਪੱਤਰਕਾਰ       18 ਮਈ 2018                                              ਈਮੇਲ                                                 ਸਾਂਝਾ ਕਰੋ                                                 ਈਮੇਲ  ਈਮੇਲ    ਲਿੰਕ ਨੂੰ ਕਾਪੀ ਕਰੋ  https://www.bbc.com/punjabi/international-44141912  ਸਾਂਝਾ ਕਰਨ ਬਾਰੇ ਹੋਰ ਪੜ੍ਹੋ   ਸਾਂਝਾ ਕਰਨ ਵਾਲੇ ਪੈਨਲ ਨੂੰ ਬੰਦ ਕਰੋ              Image copyright Getty Images  \"ਜੇ ਤੁਸੀਂ ਮਰਦਾਂ ਨੂੰ ਉੱਚੀ-ਅੱਡੀ ਅਤੇ ਉੱਚੀ ਡਰੈੱਸ ਪਾਉਣ ਬਾਰੇ ਸਵਾਲ ਨਹੀਂ ਪੁੱਛਦੇ ਤਾਂ ਤੁਸੀਂ ਮੈਨੂੰ ਵੀ ਨਹੀਂ ਪੁੱਛ ਸਕਦੇ।\"ਟਵਾਈਲਾਈਟ ਸਾਗਾ (ਉਹੀ ਫਿਲਮ ਜਿਸ ਵਿੱਚ ਭੇੜੀਏ ਇਨਸਾਨਾਂ ਦਾ ਖ਼ੂਨ ਪੀਂਦੇ ਹਨ) ਦੀ ਨਾਇਕਾ ਕ੍ਰਿਸਟੀਨ ਸਟੀਵਰਟ ਮੰਗਲਵਾਰ ਨੂੰ ਜਿਊਰੀ ਮੈਂਬਰ ਵਜੋਂ ਕਾਨਸ ਫਿਲਮ ਮੇਲੇ ਵਿੱਚ ਪਹੁੰਚੇ ਸਨ। ਰੈੱਡ ਕਾਰਪੈਟ 'ਤੇ ਤੁਰਦਿਆਂ ਉਨ੍ਹਾਂ ਨੇ ਚਾਂਦੀ ਰੰਗੀ ਪੁਸ਼ਾਕ ਅਤੇ ਕਾਲੇ ਉੱਚੀ-ਅੱਡੀ ਦੇ ਸੈਂਡਲ ਪਾਏ ਹੋਏ ਸਨ। ਕੁਝ ਦੂਰ ਤੁਰਨ ਮਗਰੋਂ ਉਨ੍ਹਾਂ ਨੇ ਉੱਚੀ-ਅੱਡੀ ਦੇ ਸੈਂਡਲ ਲਾਹ ਦਿੱਤੇ।ਯੇਦੂਰੱਪਾ ਬਣੇ ਕਰਨਾਟਕ ਦੇ ਸੀਐੱਮ, ਧਰਨੇ 'ਤੇ ਕਾਂਗਰਸਰਮਜ਼ਾਨ ਬਾਰੇ 10 ਜ਼ਰੂਰੀ ਗੱਲਾਂ ਤੁਹਾਨੂੰ ਪਤਾ ਹਨ?ਟਰੰਪ ਨੇ ਮੰਨਿਆ ਪੋਰਨ ਸਟਾਰ ਨੂੰ ਦਿੱਤੇ ਪੈਸੇਅਜਿਹਾ ਉਨ੍ਹਾਂ ਨੇ ਕਾਨਸ ਫਿਲਮ ਫੈਸਟੀਵਲ ਦੀ ਸਪਾਟ ਜੁੱਤੀਆਂ ਨਾ ਪਹਿਨਣ ਦੀ ਮਨਾਹੀ ਦੇ ਵਿਰੋਧ ਵਿੱਚ ਕੀਤਾ।ਹਾਲਾਂਕਿ ਇਸ ਫਿਲਮ ਮੇਲੇ ਵਿੱਚ ਇਹ ਕੋਈ ਪਹਿਲਾ ਮੌਕਾ ਨਹੀਂ ਸੀ।ਸਾਲ 2015 ਵਿੱਚ ਫ਼ਿਲਮ ਪ੍ਰੋਡਿਊਸਰ ਵਿਲੇਰੀਆ ਰਿਕਟਰ ਨੂੰ ਉੱਚੀ-ਅੱਡੀ ਨਾ ਪਾਉਣ ਕਰਕੇ ਰੋਕ ਦਿੱਤਾ ਗਿਆ ਸੀ। ਬਾਅਦ ਵਿੱਚ ਉਨ੍ਹਾਂ ਨੂੰ ਦਾਖਲ ਹੋਣ ਦੀ ਆਗਿਆ ਮਿਲ ਗਈ ਕਿਉਂਕਿ ਉਨ੍ਹਾਂ ਦੀ ਇੱਕ ਲੱਤ ਨਕਲੀ ਸੀ। ਇਸੇ ਕਰਕੇ ਉਨ੍ਹਾਂ ਸਪਾਟ ਤਲੇ ਵਾਲੀ ਜੁੱਤੀ ਪਾਈ ਹੋਈ ਸੀ।ਸਿਰਫ ਕਾਨਸ ਹੀ ਨਹੀਂ....ਕੁਝ ਸਾਲ ਪਹਿਲਾਂ ਲੰਡਨ ਵਿੱਚ ਫਾਇਨਾਂਸ ਕੰਪਨੀ ਪੀਡਬਲਿਊਸੀ ਨੇ ਇੱਕ ਰਿਸੈਪਸ਼ਨਿਸਟ ਨੂੰ ਉੱਚੀ ਅੱਡੀ ਦੀ ਸੈਂਡਲ ਪਾਉਣ ਤੋਂ ਮਨ੍ਹਾਂ ਕਰਨ ਬਦਲੇ ਘਰ ਭੇਜ ਦਿੱਤਾ ਸੀ। ਮੁਲਾਜ਼ਮ ਨੂੰ ਇਸ ਵਿਸ਼ੇ ਵਿੱਚ ਦਸ ਹਜ਼ਾਰ ਲੋਕਾਂ ਦੀ ਹਮਾਇਤ ਮਿਲੀ ਅਤੇ ਕੰਪਨੀ ਨੂੰ ਸਰਕਾਰ ਨੂੰ ਜਵਾਬ ਦੇਣਾ ਪਿਆ।   Image copyright Getty Images  ਖ਼ੂਨੀ ਪੈਰ..ਇੱਕ ਪਾਸੇ ਅਜਿਹੇ ਮਾਮਲੇ ਹਨ ਤਾਂ ਦੂਜੇ ਪਾਸੇ ਸਾਲ 2016 ਵਿੱਚ ਸੋਸ਼ਲ ਮੀਡੀਆ 'ਤੇ ਕੈਨੇਡਾ ਦੇ ਇੱਕ ਰੈਸਟੋਰੈਂਟ ਮੁਲਾਜ਼ਮ ਦੀ ਤਸਵੀਰ ਵਾਇਰਲ ਹੋਈ। ਉਸ ਵਿੱਚ ਮੁਲਾਜ਼ਮ ਨੇ ਖ਼ੂਨੀ ਪੰਜਿਆਂ ਵਾਲੀ ਉੱਚੀ ਅੱਡੀ ਦੇ ਸੈਂਡਲ ਪਹਿਨੇ ਹੋਏ ਸਨ। ਇਸ ਨਾਲ ਇੱਕ ਨਵਾਂ ਹੀ ਵਿਵਾਦ ਸ਼ੁਰੂ ਹੋ ਗਿਆ ਸੀ।ਕਿੱਥੋਂ ਆਈ ਸੀ ਆਖ਼ਰ ਇਹ ਉੱਚੀ ਅੱਡੀ?ਉੱਚੀ ਅੱਡੀ ਦੇ ਸੈਂਡਲ ਦੇ ਕੁਝ ਨੁਕਸਾਨ ਵੀ ਹੁੰਦੇ ਹਨ। ਮਿਸਾਲ ਵਜੋਂ, ਇਨ੍ਹਾਂ ਨਾਲ ਗਿੱਲੀ ਧਰਤੀ, ਪਹਾੜ ਜਾਂ ਪਥਰੀਲੇ ਰਾਹ 'ਤੇ ਆਸਾਨੀ ਨਾਲ ਨਹੀਂ ਤੁਰਿਆ ਜਾ ਸਕਦਾ। ਇਸ ਤੋਂ ਸਾਫ ਹੋ ਜਾਂਦਾ ਹੈ ਕਿ ਇਹ ਕਿਸੇ ਖ਼ਾਸ ਕੰਮ ਲਈ ਹੀ ਬਣਾਏ ਗਏ ਹੋਣਗੇ।   Image copyright Getty Images  ਉੱਚੀ ਅੱਡੀ ਦੇ ਸੈਂਡਲ ਨੂੰ ਸਰਦੀਆਂ ਵਿੱਚ ਘੋੜ ਸਵਾਰੀ ਮੌਕੇ ਵਰਤਿਆ ਜਾਂਦਾ ਸੀ। ਈਰਾਨ ਅਤੇ ਪਰਸ਼ੀਆ ਵਿੱਚ ਵਧੀਆ ਘੋੜ ਸਵਾਰ ਹੋਣਾ ਜ਼ਰੂਰੀ ਸੀ।ਜਦੋਂ ਘੋੜ ਸਵਾਰ ਘੋੜੇ 'ਤੇ ਖੜਾ ਹੋ ਕੇ ਤੀਰ ਦਾ ਨਿਸ਼ਾਨਾ ਲਾਉਂਦਾ ਤਾਂ ਉੱਚੀ ਅੱਡੀ ਰਕਾਬ ਨੂੰ ਪਕੜ ਦਿੰਦੀ ਸੀ। 1599 ਵਿੱਚ ਜਦੋਂ ਪਰਸ਼ੀਆ ਦੇ ਸ਼ਾਹ ਅੱਬਾਸ ਨੇ ਆਪਣੇ ਰਾਜਦੂਤ ਯੂਰਪ ਭੇਜੇ ਤਾਂ ਇਸ ਕਿਸਮ ਦੇ ਜੁੱਤੇ ਵੀ ਯੂਰਪ ਆ ਗਏ।ਮਾਹੌਲ ਅਜਿਹਾ ਬਣਿਆ ਕਿ ਉੱਚੀ ਅੱਡੀ ਦੀ ਜੁੱਤੀ ਮਰਦਾਂ ਨੂੰ ਦਲੇਰ ਬਣਾ ਸਕਦੀ ਹੈ।ਹੌਲੀ-ਹੌਲੀ ਅਮੀਰ ਲੋਕਾਂ ਨੇ ਅੱਡੀ ਦੀ ਉਚਾਈ ਵਧਾਉਣੀ ਸ਼ੁਰੂ ਕਰ ਦਿੱਤੀ।   Image copyright BATASHOEMUSEUM  ਫਰਾਂਸ ਦੇ ਲੂਈਸ ਚੌਧਵੇਂ ਦਾ ਕੱਦ ਸਿਰਫ਼ ਚਾਰ ਫੁੱਟ ਸੀ ਪਰ ਉਨ੍ਹਾਂ ਨੇ ਉੱਚੀ ਅੱਡੀ ਪਾ ਕੇ ਇਹ ਘਾਟ ਦੂਰ ਕਰ ਲਈ।ਹੌਲੀ-ਹੌਲੀ ਇਹ ਫੈਸ਼ਨ ਔਰਤਾਂ ਅਤੇ ਬੱਚਿਆਂ ਵਿੱਚ ਵੀ ਆ ਗਿਆ।ਸਮੇਂ ਨਾਲ ਪੁਰਸ਼ਾਂ ਦੀ ਅੱਡੀ ਦੀ ਉਚਾਈ ਘਟਦੀ ਗਈ ਤੇ ਔਰਤਾਂ ਦੀ ਵਧਦੀ ਗਈ। ਉਨ੍ਹਾਂ ਦੀਆਂ ਜੁੱਤੀਆਂ ਦੇ ਪੰਜੇ ਤਿੱਖੇ ਹੁੰਦੇ ਸਨ ਤਾਂ ਕਿ ਉਨ੍ਹਾਂ ਦੇ ਪੈਰ ਪਤਲੇ ਅਤੇ ਸੋਹਣੇ ਦਿਖਣ।1800 ਤੱਕ ਔਰਤਾਂ ਅਤੇ ਮਰਦਾਂ ਨੇ ਉੱਚੀ ਅੱਡੀ ਪਾਉਣੀ ਬੰਦ ਕਰ ਦਿੱਤੀ। 19ਵੀਂ ਸਦੀ ਵਿੱਚ ਇਸ ਕਿਸਮ ਦੀਆਂ ਜੁੱਤੀਆਂ ਵਾਪਸ ਪ੍ਰਚਲਿਤ ਹੋਈਆਂ ਕਿਉਂਕ ਔਰਤਾਂ ਫੋਟੋਗਰਾਫੀ ਵਿੱਚ ਸੋਹਣੀਆਂ ਲੱਗਣੀਆਂ ਚਾਹੁੰਦੀਆਂ ਸਨ।   Image copyright BATASHOEMUSEUM   ਫੋਟੋ ਕੈਪਸ਼ਨ                     ਫਰਾਂਸ ਦੇ ਲੂਈਸ ਚੌਦਵੇਂ ਦਾ ਕੱਦ ਸਿਰਫ਼ ਚਾਰ ਫੁੱਟ ਸੀ ਪਰ ਉਨ੍ਹਾਂ ਨੇ ਉੱਚੀ ਅੱਡੀ ਪਾ ਕੇ ਇਹ ਘਾਟ ਦੂਰ ਕਰ ਲਈ।                  ਉੱਥੋਂ ਹੀ ਇਹ ਸੋਚ ਤੁਰ ਪਈ ਕਿ ਉੱਚੀ ਅੱਡੀ ਵਿੱਚ ਔਰਤਾਂ ਵਧੇਰੇ ਕਾਮੁਕ ਲਗਦੀਆਂ ਹਨ।ਉੱਚੀ ਅੱਡੀ ਅਤੇ ਸਿਹਤਭਾਵੇਂ ਮੰਨਿਆ ਜਾਂਦਾ ਹੈ ਕਿ ਇਹ ਸਿਹਤ ਲਈ ਨੁਕਸਾਨਦਾਇਕ ਹਨ ਪਰ ਫੇਰ ਵੀ ਇਨ੍ਹਾਂ ਦਾ ਰਿਵਾਜ਼ ਹਮੇਸ਼ਾ ਰਿਹਾ ਹੈ।ਦਿ ਸਪਾਈਨ ਹੈਲਥ ਇੰਸਟੀਚਿਊਟ ਮੁਤਾਬਕ ਇਨ੍ਹਾਂ ਨਾਲ ਰੀੜ੍ਹ ਦੀ ਹੱਡੀ, ਕੂਲ੍ਹੇ, ਗੋਡੇ, ਅੱਡੀ ਅਤੇ ਪੂਰੇ ਪੈਰ 'ਤੇ ਹੀ ਬੁਰਾ ਅਸਰ ਪੈਂਦਾ ਹੈ।ਦਿ ਸੋਸਾਈਟੀ ਆਫ਼ ਚਿਰੋਪੋਡਿਸਟਸ ਐਂਡ ਪੋਡਿਏਟਰਿਸਟਸ ਦੀ ਇੱਕ ਖੋਜ ਮੁਤਾਬਕ ਇਨ੍ਹਾਂ ਨਾਲ ਗਠੀਏ ਦਾ ਖ਼ਤਰਾ ਵਧ ਜਾਂਦਾ ਹੈ।ਪੈਰਾਂ ਦੇ ਮਾਹਿਰ ਅਤੇ ਗਠੀਏ 'ਤੇ ਖੋਜ ਕਰਨ ਵਾਲੇ ਪ੍ਰੋਫੈਸਰ ਐਂਥਨੀ ਰੇਡਮੰਡ ਮੁਤਾਬਕ, ਰੋਜ਼ਾਨਾ ਦੇ ਕੰਮਕਾਜ ਲਈ ਮੂਹਰੋਂ ਗੋਲ ਇੱਕ ਇੰਚ ਦੀ ਅੱਡੀ ਪਾਉਣੀ ਚਾਹੀਦੀ ਹੈ। ਜੁੱਤੀ ਦਾ ਤਲਾ ਅਜਿਹਾ ਹੋਵੇ ਜਿਹੜਾ ਝਟਕੇ ਝੱਲ ਸਕਦਾ ਹੋਵੇ।ਰਮਜ਼ਾਨ ਦੇ ਰੋਜ਼ਿਆਂ ਦਾ ਸਰੀਰ 'ਤੇ ਕੀ ਅਸਰ ਉਹ ਕਹਾਣੀ ਜਿਸ ਨੂੰ ਪੜ੍ਹ ਕੇ ਸਿਕੰਦਰ ਮਹਾਨ ਬਣ ਗਿਆਦਿ ਸਪਾਈਨ ਹੈਲਥ ਇੰਸਟੀਚਿਊਟ ਮੁਤਾਬਕ ਖੜ੍ਹਨ ਸਮੇਂ ਪੈਰਾਂ ਦਾ ਸੰਤੁਲਨ ਹੋਣਾ ਜ਼ਰੂਰੀ ਹੈ। ਉੱਚੀ ਅੱਡੀ ਨਾਲ ਸਰੀਰ ਦਾ ਅਗਲਾ ਹਿੱਸਾ ਬਾਹਰ ਵੱਲ ਵਧ ਜਾਂਦਾ ਹੈ ਜਿਸ ਨਾਲ ਰੀੜ੍ਹ ਦੀ ਹੱਡੀ ਅਤੇ ਕੂਲ੍ਹੇ ਦਾ ਸਮਤੋਲ ਵਿਗੜ ਜਾਂਦਾ ਹੈ। ਗੋਡਿਆਂ 'ਤੇ ਦਬਾਅ ਵਧ ਜਾਂਦਾ ਹੈ ਅਤੇ ਖੱਲੀ ਵਿੱਚ ਤਣਾਅ ਆਉਂਦਾ ਹੈ। ਇਸ ਤੋਂ ਇਲਾਵਾ ਪੰਜਿਆਂ 'ਤੇ ਵੀ ਜ਼ੋਰ ਪੈਂਦਾ ਹੈ।ਆਮ ਤੌਰ 'ਤੇ ਰੀੜ੍ਹ ਦੀ ਹੱਡੀ ਅੰਗਰੇਜ਼ੀ ਦੇ S ਵਰਗਾ ਹੁੰਦਾ ਹੈ ਪਰ ਉੱਚੀ ਅੱਡੀ ਨਾਲ ਇਸ ਦਾ ਆਕਾਰ ਬਦਲ ਜਾਂਦਾ ਹੈ।ਕੀ ਪਰਹੇਜ਼ ਕਰੀਏ?ਜ਼ਿਆਦਾ ਸਮੇਂ ਤੱਕ ਉੱਚੀ ਅੱਡੀ ਦੀਆਂ ਜੁੱਤੀਆਂ ਨਾ ਪਾ ਕੇ ਰੱਖੋ।ਪੈਰਾਂ ਦੀਆਂ ਮਾਸਪੇਸ਼ੀਆਂ ਦੀ ਕਸਰਤ ਕਰਦੇ ਰਹੋ, ਜਦੋਂ ਜੁੱਤੀ ਪਾਓ ਉਸ ਸਮੇਂ ਵੀ ਅਤੇ ਜਦੋਂ ਲਾਹੋਂ ਉਸ ਸਮੇਂ ਵੀ।ਜ਼ਿਆਦਾ ਉੱਚੀ ਅੱਡੀ ਨਾ ਪਹਿਨੋ।ਹੋ ਸਕੇ ਤਾਂ ਵੱਖੋ-ਵੱਖ ਆਕਾਰ-ਪ੍ਰਕਾਰ ਦੀਆਂ ਜੁੱਤੀਆਂ ਪਹਿਨੋ।(ਬੀਬੀਸੀ ਪੰਜਾਬੀ ਨਾਲ , , ਅਤੇ  'ਤੇ ਜੁੜੋ।) \n"
     ]
    }
   ],
   "source": [
    "print(val_sentences[0])"
   ]
  },
  {
   "cell_type": "code",
   "execution_count": 19,
   "metadata": {
    "ExecuteTime": {
     "end_time": "2022-04-18T19:04:40.427861Z",
     "start_time": "2022-04-18T19:04:40.427856Z"
    }
   },
   "outputs": [
    {
     "name": "stdout",
     "output_type": "stream",
     "text": [
      "True\n"
     ]
    }
   ],
   "source": [
    "print(val_labels[2])"
   ]
  },
  {
   "cell_type": "code",
   "execution_count": 20,
   "metadata": {
    "ExecuteTime": {
     "end_time": "2022-04-18T19:04:40.428270Z",
     "start_time": "2022-04-18T19:04:40.428266Z"
    },
    "colab": {
     "base_uri": "https://localhost:8080/",
     "height": 84
    },
    "colab_type": "code",
    "id": "FOH5YyP2IVwz",
    "outputId": "d065647b-051d-46a2-9802-6c92d40691f0"
   },
   "outputs": [
    {
     "name": "stdout",
     "output_type": "stream",
     "text": [
      "627\n",
      "627\n",
      "157\n",
      "157\n"
     ]
    }
   ],
   "source": [
    "print(len(train_sentences))\n",
    "print(len(train_labels))\n",
    "print(len(val_sentences))\n",
    "print(len(val_labels))"
   ]
  },
  {
   "cell_type": "markdown",
   "metadata": {
    "colab_type": "text",
    "id": "2uH3dHqIIqBw"
   },
   "source": [
    "# Tokenizing dataset for Classification"
   ]
  },
  {
   "cell_type": "code",
   "execution_count": 21,
   "metadata": {
    "ExecuteTime": {
     "end_time": "2022-04-18T19:04:40.428543Z",
     "start_time": "2022-04-18T19:04:40.428539Z"
    },
    "colab": {},
    "colab_type": "code",
    "id": "mCqffD09Ihih"
   },
   "outputs": [],
   "source": [
    "train_sequences = tokenizer.texts_to_sequences(train_sentences)\n",
    "train_padded = pad_sequences(train_sequences, padding = padding_type, maxlen=max_length)"
   ]
  },
  {
   "cell_type": "code",
   "execution_count": 22,
   "metadata": {
    "ExecuteTime": {
     "end_time": "2022-04-18T19:04:40.429117Z",
     "start_time": "2022-04-18T19:04:40.429112Z"
    },
    "colab": {},
    "colab_type": "code",
    "id": "Sfs5BPIII6KU"
   },
   "outputs": [],
   "source": [
    "validation_sequences = tokenizer.texts_to_sequences(val_sentences)\n",
    "validation_padded = pad_sequences(validation_sequences, padding = padding_type, maxlen= max_length)"
   ]
  },
  {
   "cell_type": "code",
   "execution_count": 23,
   "metadata": {
    "ExecuteTime": {
     "end_time": "2022-04-18T19:04:40.429997Z",
     "start_time": "2022-04-18T19:04:40.429992Z"
    },
    "colab": {
     "base_uri": "https://localhost:8080/",
     "height": 50
    },
    "colab_type": "code",
    "id": "Cv5FTISgJMbv",
    "outputId": "a803eb2a-b89c-4a4e-aa1f-dc4376e7b242"
   },
   "outputs": [
    {
     "name": "stdout",
     "output_type": "stream",
     "text": [
      "157\n",
      "(157, 1000)\n"
     ]
    }
   ],
   "source": [
    "print(len(validation_sequences))\n",
    "print(validation_padded.shape)"
   ]
  },
  {
   "cell_type": "code",
   "execution_count": 24,
   "metadata": {
    "ExecuteTime": {
     "end_time": "2022-04-18T19:04:40.431317Z",
     "start_time": "2022-04-18T19:04:40.431310Z"
    },
    "colab": {
     "base_uri": "https://localhost:8080/",
     "height": 151
    },
    "colab_type": "code",
    "id": "fHc8PdnrJcN1",
    "outputId": "e9a13284-ef87-4b3b-ef39-dc98724cb74a"
   },
   "outputs": [],
   "source": [
    "label_tokenizer = Tokenizer()\n",
    "label_tokenizer.fit_on_texts(train_labels)\n",
    "\n",
    "training_label_seq = np.array(label_tokenizer.texts_to_sequences(train_labels))\n",
    "validation_label_seq = np.array(label_tokenizer.texts_to_sequences(val_labels))\n",
    "\n",
    "# print(training_label_seq[0])\n",
    "# print(training_label_seq[1])\n",
    "# print(training_label_seq[2])\n",
    "# print(training_label_seq.shape)\n",
    "\n",
    "# print(validation_label_seq[0])\n",
    "# print(validation_label_seq[1])\n",
    "# print(validation_label_seq[2])\n",
    "# print(validation_label_seq.shape)"
   ]
  },
  {
   "cell_type": "markdown",
   "metadata": {
    "colab_type": "text",
    "id": "ele-cVWGR3e_"
   },
   "source": [
    "# Training a Neural network to Classify and simultaneiously Training for Embeddings"
   ]
  },
  {
   "cell_type": "code",
   "execution_count": 25,
   "metadata": {
    "ExecuteTime": {
     "end_time": "2022-04-18T19:04:40.432109Z",
     "start_time": "2022-04-18T19:04:40.432104Z"
    },
    "colab": {
     "base_uri": "https://localhost:8080/",
     "height": 319
    },
    "colab_type": "code",
    "id": "CrSQZVn7Knyn",
    "outputId": "f9d3cff3-a206-493d-a143-9e6cfe71b9f3"
   },
   "outputs": [
    {
     "name": "stdout",
     "output_type": "stream",
     "text": [
      "Metal device set to: Apple M1\n",
      "Model: \"sequential\"\n",
      "_________________________________________________________________\n",
      "Layer (type)                 Output Shape              Param #   \n",
      "=================================================================\n",
      "embedding (Embedding)        (None, 1000, 100)         1000000   \n",
      "_________________________________________________________________\n",
      "global_average_pooling1d (Gl (None, 100)               0         \n",
      "_________________________________________________________________\n",
      "dense (Dense)                (None, 64)                6464      \n",
      "_________________________________________________________________\n",
      "dense_1 (Dense)              (None, 128)               8320      \n",
      "_________________________________________________________________\n",
      "dense_2 (Dense)              (None, 6)                 774       \n",
      "=================================================================\n",
      "Total params: 1,015,558\n",
      "Trainable params: 1,015,558\n",
      "Non-trainable params: 0\n",
      "_________________________________________________________________\n"
     ]
    },
    {
     "name": "stderr",
     "output_type": "stream",
     "text": [
      "2022-04-20 10:38:04.410898: I tensorflow/core/common_runtime/pluggable_device/pluggable_device_factory.cc:305] Could not identify NUMA node of platform GPU ID 0, defaulting to 0. Your kernel may not have been built with NUMA support.\n",
      "2022-04-20 10:38:04.410988: I tensorflow/core/common_runtime/pluggable_device/pluggable_device_factory.cc:271] Created TensorFlow device (/job:localhost/replica:0/task:0/device:GPU:0 with 0 MB memory) -> physical PluggableDevice (device: 0, name: METAL, pci bus id: <undefined>)\n"
     ]
    }
   ],
   "source": [
    "model = tf.keras.Sequential([\n",
    "# YOUR CODE HERE\n",
    "    tf.keras.layers.Embedding(vocab_size, embedding_dim, input_length=max_length),\n",
    "    tf.keras.layers.GlobalAveragePooling1D(),\n",
    "    tf.keras.layers.Dense(64, activation='relu'),\n",
    "    tf.keras.layers.Dense(128, activation='relu'),\n",
    "    tf.keras.layers.Dense(6, activation='softmax')\n",
    "])\n",
    "model.compile(loss='sparse_categorical_crossentropy',optimizer='adam',metrics=['accuracy'])\n",
    "model.summary()"
   ]
  },
  {
   "cell_type": "code",
   "execution_count": 26,
   "metadata": {
    "ExecuteTime": {
     "end_time": "2022-04-18T19:04:40.432861Z",
     "start_time": "2022-04-18T19:04:40.432855Z"
    },
    "colab": {
     "base_uri": "https://localhost:8080/",
     "height": 353
    },
    "colab_type": "code",
    "id": "FUlrRhmQK39X",
    "outputId": "dbd26259-28d3-4d00-adcb-fb9d3ece8762"
   },
   "outputs": [
    {
     "name": "stderr",
     "output_type": "stream",
     "text": [
      "2022-04-20 10:38:04.693349: I tensorflow/compiler/mlir/mlir_graph_optimization_pass.cc:176] None of the MLIR Optimization Passes are enabled (registered 2)\n",
      "2022-04-20 10:38:04.693519: W tensorflow/core/platform/profile_utils/cpu_utils.cc:128] Failed to get CPU frequency: 0 Hz\n",
      "2022-04-20 10:38:04.849670: I tensorflow/core/grappler/optimizers/custom_graph_optimizer_registry.cc:112] Plugin optimizer for device_type GPU is enabled.\n"
     ]
    },
    {
     "name": "stdout",
     "output_type": "stream",
     "text": [
      "Epoch 1/10\n",
      "20/20 - 1s - loss: 1.6627 - accuracy: 0.8022 - val_loss: 1.4099 - val_accuracy: 0.8344\n"
     ]
    },
    {
     "name": "stderr",
     "output_type": "stream",
     "text": [
      "2022-04-20 10:38:05.472176: I tensorflow/core/grappler/optimizers/custom_graph_optimizer_registry.cc:112] Plugin optimizer for device_type GPU is enabled.\n"
     ]
    },
    {
     "name": "stdout",
     "output_type": "stream",
     "text": [
      "Epoch 2/10\n",
      "20/20 - 0s - loss: 0.9219 - accuracy: 0.8596 - val_loss: 0.5665 - val_accuracy: 0.8344\n",
      "Epoch 3/10\n",
      "20/20 - 0s - loss: 0.4513 - accuracy: 0.8596 - val_loss: 0.4512 - val_accuracy: 0.8344\n",
      "Epoch 4/10\n",
      "20/20 - 0s - loss: 0.3875 - accuracy: 0.8596 - val_loss: 0.4224 - val_accuracy: 0.8344\n",
      "Epoch 5/10\n",
      "20/20 - 0s - loss: 0.3710 - accuracy: 0.8596 - val_loss: 0.4087 - val_accuracy: 0.8344\n",
      "Epoch 6/10\n",
      "20/20 - 0s - loss: 0.3517 - accuracy: 0.8596 - val_loss: 0.4037 - val_accuracy: 0.8344\n",
      "Epoch 7/10\n",
      "20/20 - 0s - loss: 0.3390 - accuracy: 0.8596 - val_loss: 0.4013 - val_accuracy: 0.8344\n",
      "Epoch 8/10\n",
      "20/20 - 0s - loss: 0.3130 - accuracy: 0.8612 - val_loss: 0.3693 - val_accuracy: 0.8408\n",
      "Epoch 9/10\n",
      "20/20 - 0s - loss: 0.2749 - accuracy: 0.8724 - val_loss: 0.3608 - val_accuracy: 0.8599\n",
      "Epoch 10/10\n",
      "20/20 - 0s - loss: 0.2210 - accuracy: 0.9123 - val_loss: 0.3216 - val_accuracy: 0.8599\n"
     ]
    }
   ],
   "source": [
    "num_epochs = 10\n",
    "history = model.fit(train_padded, training_label_seq, epochs=num_epochs, validation_data=(validation_padded, validation_label_seq), verbose=2) # YOUR CODE HERE)"
   ]
  },
  {
   "cell_type": "markdown",
   "metadata": {
    "colab_type": "text",
    "id": "q5L8SJ4rSTij"
   },
   "source": [
    "# Visualizing Training Process"
   ]
  },
  {
   "cell_type": "code",
   "execution_count": 27,
   "metadata": {
    "ExecuteTime": {
     "end_time": "2022-04-18T19:04:40.435023Z",
     "start_time": "2022-04-18T19:04:40.435014Z"
    },
    "colab": {
     "base_uri": "https://localhost:8080/",
     "height": 541
    },
    "colab_type": "code",
    "id": "5K4XMhpDK7bX",
    "outputId": "93f225fe-a506-4b5f-e539-76ae9d8ebb60",
    "scrolled": true
   },
   "outputs": [
    {
     "data": {
      "image/png": "[encoded data removed]",
      "text/plain": [
       "<Figure size 432x288 with 1 Axes>"
      ]
     },
     "metadata": {
      "needs_background": "light"
     },
     "output_type": "display_data"
    },
    {
     "data": {
      "image/png": "[encoded data removed]",
      "text/plain": [
       "<Figure size 432x288 with 1 Axes>"
      ]
     },
     "metadata": {
      "needs_background": "light"
     },
     "output_type": "display_data"
    }
   ],
   "source": [
    "import matplotlib.pyplot as plt\n",
    "\n",
    "def plot_graphs(history, string):\n",
    "  plt.plot(history.history[string])\n",
    "  plt.plot(history.history['val_'+string])\n",
    "  plt.xlabel(\"Epochs\")\n",
    "  plt.ylabel(string)\n",
    "  plt.legend([string, 'val_'+string])\n",
    "  plt.show()\n",
    "  \n",
    "plot_graphs(history, \"accuracy\")\n",
    "plot_graphs(history, \"loss\")\n"
   ]
  },
  {
   "cell_type": "markdown",
   "metadata": {
    "colab_type": "text",
    "id": "eDIpjEuJRyiw"
   },
   "source": [
    "# Saving Embeddings into Files "
   ]
  },
  {
   "cell_type": "code",
   "execution_count": 28,
   "metadata": {
    "ExecuteTime": {
     "end_time": "2022-04-18T19:04:40.436071Z",
     "start_time": "2022-04-18T19:04:40.436066Z"
    },
    "colab": {},
    "colab_type": "code",
    "id": "-saZj4L5Mp6U"
   },
   "outputs": [],
   "source": [
    "reverse_word_index = dict([(value, key) for (key, value) in word_index.items()])\n",
    "\n",
    "def decode_sentence(text):\n",
    "    return ' '.join([reverse_word_index.get(i, '?') for i in text])"
   ]
  },
  {
   "cell_type": "code",
   "execution_count": 29,
   "metadata": {
    "ExecuteTime": {
     "end_time": "2022-04-18T19:04:40.436846Z",
     "start_time": "2022-04-18T19:04:40.436841Z"
    },
    "colab": {
     "base_uri": "https://localhost:8080/",
     "height": 34
    },
    "colab_type": "code",
    "id": "K-CPCbceN9GF",
    "outputId": "2f5fff08-99c7-409b-c0a6-690891e05dc2"
   },
   "outputs": [
    {
     "name": "stdout",
     "output_type": "stream",
     "text": [
      "(10000, 100)\n"
     ]
    }
   ],
   "source": [
    "e = model.layers[0]\n",
    "weights = e.get_weights()[0]\n",
    "print(weights.shape)"
   ]
  },
  {
   "cell_type": "code",
   "execution_count": 30,
   "metadata": {
    "ExecuteTime": {
     "end_time": "2022-04-18T19:04:40.437728Z",
     "start_time": "2022-04-18T19:04:40.437722Z"
    },
    "colab": {},
    "colab_type": "code",
    "id": "lubZKRPYN_b9"
   },
   "outputs": [],
   "source": [
    "import io\n",
    "\n",
    "out_v = io.open('vecs.tsv', 'w', encoding='utf-8')\n",
    "out_m = io.open('meta.tsv', 'w', encoding='utf-8')\n",
    "for word_num in range(1, vocab_size):\n",
    "  word = reverse_word_index[word_num]\n",
    "  embeddings = weights[word_num]\n",
    "  out_m.write(word + \"\\n\")\n",
    "  out_v.write('\\t'.join([str(x) for x in embeddings]) + \"\\n\")\n",
    "out_v.close()\n",
    "out_m.close()"
   ]
  },
  {
   "cell_type": "code",
   "execution_count": 32,
   "metadata": {},
   "outputs": [
    {
     "data": {
      "image/png": "[encoded data removed]",
      "text/plain": [
       "<IPython.core.display.Image object>"
      ]
     },
     "execution_count": 32,
     "metadata": {},
     "output_type": "execute_result"
    }
   ],
   "source": [
    "tf.keras.utils.plot_model(model,show_shapes=True, show_layer_names=True)"
   ]
  },
  {
   "cell_type": "code",
   "execution_count": null,
   "metadata": {},
   "outputs": [],
   "source": []
  }
 ],
 "metadata": {
  "colab": {
   "collapsed_sections": [],
   "name": "NLP Mini Project.ipynb",
   "provenance": [],
   "toc_visible": true
  },
  "interpreter": {
   "hash": "6ba1aa9759a89a5abc12a34e5bb1c7cca79f5444d7647f8f035d8f7c50b75bb8"
  },
  "kernelspec": {
   "display_name": "Python 3.9 (tensorflow)",
   "language": "python",
   "name": "tensorflow"
  },
  "language_info": {
   "codemirror_mode": {
    "name": "ipython",
    "version": 3
   },
   "file_extension": ".py",
   "mimetype": "text/x-python",
   "name": "python",
   "nbconvert_exporter": "python",
   "pygments_lexer": "ipython3",
   "version": "3.9.12"
  },
  "varInspector": {
   "cols": {
    "lenName": 16,
    "lenType": 16,
    "lenVar": 40
   },
   "kernels_config": {
    "python": {
     "delete_cmd_postfix": "",
     "delete_cmd_prefix": "del ",
     "library": "var_list.py",
     "varRefreshCmd": "print(var_dic_list())"
    },
    "r": {
     "delete_cmd_postfix": ") ",
     "delete_cmd_prefix": "rm(",
     "library": "var_list.r",
     "varRefreshCmd": "cat(var_dic_list()) "
    }
   },
   "types_to_exclude": [
    "module",
    "function",
    "builtin_function_or_method",
    "instance",
    "_Feature"
   ],
   "window_display": false
  }
 },
 "nbformat": 4,
 "nbformat_minor": 1
}
